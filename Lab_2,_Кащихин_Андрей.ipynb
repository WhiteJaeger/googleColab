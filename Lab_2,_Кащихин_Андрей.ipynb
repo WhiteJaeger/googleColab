{
  "nbformat": 4,
  "nbformat_minor": 0,
  "metadata": {
    "kernelspec": {
      "display_name": "Python 3",
      "language": "python",
      "name": "python3"
    },
    "language_info": {
      "codemirror_mode": {
        "name": "ipython",
        "version": 3
      },
      "file_extension": ".py",
      "mimetype": "text/x-python",
      "name": "python",
      "nbconvert_exporter": "python",
      "pygments_lexer": "ipython3",
      "version": "3.7.1"
    },
    "colab": {
      "name": "Lab #2, Кащихин Андрей.ipynb",
      "provenance": [],
      "collapsed_sections": [],
      "include_colab_link": true
    }
  },
  "cells": [
    {
      "cell_type": "markdown",
      "metadata": {
        "id": "view-in-github",
        "colab_type": "text"
      },
      "source": [
        "<a href=\"https://colab.research.google.com/github/WhiteJaeger/googleColab/blob/master/Lab_2%2C_%D0%9A%D0%B0%D1%89%D0%B8%D1%85%D0%B8%D0%BD_%D0%90%D0%BD%D0%B4%D1%80%D0%B5%D0%B9.ipynb\" target=\"_parent\"><img src=\"https://colab.research.google.com/assets/colab-badge.svg\" alt=\"Open In Colab\"/></a>"
      ]
    },
    {
      "cell_type": "markdown",
      "metadata": {
        "id": "pzjJmipNdE5C",
        "colab_type": "text"
      },
      "source": [
        "# Майнор \"Интеллектуальный анализ данных\""
      ]
    },
    {
      "cell_type": "markdown",
      "metadata": {
        "id": "p5CAd5PydE5F",
        "colab_type": "text"
      },
      "source": [
        "# Курс \"Прикладные задачи анализа данных\""
      ]
    },
    {
      "cell_type": "markdown",
      "metadata": {
        "id": "_jOeICYddE5H",
        "colab_type": "text"
      },
      "source": [
        "## Лабораторная работа №2. RecSys"
      ]
    },
    {
      "cell_type": "markdown",
      "metadata": {
        "id": "3y3wRRLjdE5M",
        "colab_type": "text"
      },
      "source": [
        "В рамках данной лабораторной работы вам предлагается решить задачу рекомендательной системы на основе следующих данных:"
      ]
    },
    {
      "cell_type": "markdown",
      "metadata": {
        "id": "xLTO8m79dE5P",
        "colab_type": "text"
      },
      "source": [
        "1. **ratings** - рейтинги книг по 10 бальной шкале\n",
        "* **itmes** - описание items\n",
        "* **users** - описание user"
      ]
    },
    {
      "cell_type": "markdown",
      "metadata": {
        "id": "CgwRYPq2dE5R",
        "colab_type": "text"
      },
      "source": [
        "Скачать данные можно здесь http://www2.informatik.uni-freiburg.de/~cziegler/BX/"
      ]
    },
    {
      "cell_type": "code",
      "metadata": {
        "id": "fOcvPB49Y31N",
        "colab_type": "code",
        "outputId": "400037c9-6b4f-4318-a7d4-92ef6c8399d4",
        "colab": {
          "base_uri": "https://localhost:8080/",
          "height": 122
        }
      },
      "source": [
        "from google.colab import drive\n",
        "drive.mount('/content/drive')"
      ],
      "execution_count": 1,
      "outputs": [
        {
          "output_type": "stream",
          "text": [
            "Go to this URL in a browser: https://accounts.google.com/o/oauth2/auth?client_id=947318989803-6bn6qk8qdgf4n4g3pfee6491hc0brc4i.apps.googleusercontent.com&redirect_uri=urn%3aietf%3awg%3aoauth%3a2.0%3aoob&response_type=code&scope=email%20https%3a%2f%2fwww.googleapis.com%2fauth%2fdocs.test%20https%3a%2f%2fwww.googleapis.com%2fauth%2fdrive%20https%3a%2f%2fwww.googleapis.com%2fauth%2fdrive.photos.readonly%20https%3a%2f%2fwww.googleapis.com%2fauth%2fpeopleapi.readonly\n",
            "\n",
            "Enter your authorization code:\n",
            "··········\n",
            "Mounted at /content/drive\n"
          ],
          "name": "stdout"
        }
      ]
    },
    {
      "cell_type": "markdown",
      "metadata": {
        "id": "_8bp-ZPsdE5S",
        "colab_type": "text"
      },
      "source": [
        "# Данные"
      ]
    },
    {
      "cell_type": "code",
      "metadata": {
        "id": "fbSJNh3vdE5T",
        "colab_type": "code",
        "colab": {}
      },
      "source": [
        "import pandas as pd\n",
        "import numpy as np\n",
        "from pathlib import Path"
      ],
      "execution_count": 0,
      "outputs": []
    },
    {
      "cell_type": "code",
      "metadata": {
        "id": "lsppAbjtZIgX",
        "colab_type": "code",
        "outputId": "20a4050b-17d0-4788-9a1e-b2a716e19c43",
        "colab": {
          "base_uri": "https://localhost:8080/",
          "height": 34
        }
      },
      "source": [
        "!ls ./drive"
      ],
      "execution_count": 23,
      "outputs": [
        {
          "output_type": "stream",
          "text": [
            "'My Drive'\n"
          ],
          "name": "stdout"
        }
      ]
    },
    {
      "cell_type": "code",
      "metadata": {
        "id": "CjnhvmMddE5Z",
        "colab_type": "code",
        "colab": {}
      },
      "source": [
        "DATA_PATH = Path('./drive/My Drive/Minor/BX-CSV-Dump/')"
      ],
      "execution_count": 0,
      "outputs": []
    },
    {
      "cell_type": "code",
      "metadata": {
        "id": "i_JkQSORdE5f",
        "colab_type": "code",
        "outputId": "4f8666ad-8c2e-467d-dd59-0e43346e70b2",
        "colab": {
          "base_uri": "https://localhost:8080/",
          "height": 68
        }
      },
      "source": [
        "list(DATA_PATH.glob('*'))"
      ],
      "execution_count": 25,
      "outputs": [
        {
          "output_type": "execute_result",
          "data": {
            "text/plain": [
              "[PosixPath('drive/My Drive/Minor/BX-CSV-Dump/BX-Book-Ratings.csv'),\n",
              " PosixPath('drive/My Drive/Minor/BX-CSV-Dump/BX-Users.csv'),\n",
              " PosixPath('drive/My Drive/Minor/BX-CSV-Dump/BX-Books.csv')]"
            ]
          },
          "metadata": {
            "tags": []
          },
          "execution_count": 25
        }
      ]
    },
    {
      "cell_type": "code",
      "metadata": {
        "id": "GucqVyYNdE5m",
        "colab_type": "code",
        "outputId": "061ffd24-15e4-40a8-a1a9-323d73cb220b",
        "colab": {
          "base_uri": "https://localhost:8080/",
          "height": 221
        }
      },
      "source": [
        "ratings = pd.read_csv(DATA_PATH / 'BX-Book-Ratings.csv', sep=';', decimal = ',', \n",
        "                      quotechar='\"', encoding = 'cp1251', comment = \"'\")\n",
        "print(ratings.shape)\n",
        "ratings.head()"
      ],
      "execution_count": 26,
      "outputs": [
        {
          "output_type": "stream",
          "text": [
            "(1149780, 3)\n"
          ],
          "name": "stdout"
        },
        {
          "output_type": "execute_result",
          "data": {
            "text/html": [
              "<div>\n",
              "<style scoped>\n",
              "    .dataframe tbody tr th:only-of-type {\n",
              "        vertical-align: middle;\n",
              "    }\n",
              "\n",
              "    .dataframe tbody tr th {\n",
              "        vertical-align: top;\n",
              "    }\n",
              "\n",
              "    .dataframe thead th {\n",
              "        text-align: right;\n",
              "    }\n",
              "</style>\n",
              "<table border=\"1\" class=\"dataframe\">\n",
              "  <thead>\n",
              "    <tr style=\"text-align: right;\">\n",
              "      <th></th>\n",
              "      <th>User-ID</th>\n",
              "      <th>ISBN</th>\n",
              "      <th>Book-Rating</th>\n",
              "    </tr>\n",
              "  </thead>\n",
              "  <tbody>\n",
              "    <tr>\n",
              "      <th>0</th>\n",
              "      <td>276725</td>\n",
              "      <td>034545104X</td>\n",
              "      <td>0</td>\n",
              "    </tr>\n",
              "    <tr>\n",
              "      <th>1</th>\n",
              "      <td>276726</td>\n",
              "      <td>0155061224</td>\n",
              "      <td>5</td>\n",
              "    </tr>\n",
              "    <tr>\n",
              "      <th>2</th>\n",
              "      <td>276727</td>\n",
              "      <td>0446520802</td>\n",
              "      <td>0</td>\n",
              "    </tr>\n",
              "    <tr>\n",
              "      <th>3</th>\n",
              "      <td>276729</td>\n",
              "      <td>052165615X</td>\n",
              "      <td>3</td>\n",
              "    </tr>\n",
              "    <tr>\n",
              "      <th>4</th>\n",
              "      <td>276729</td>\n",
              "      <td>0521795028</td>\n",
              "      <td>6</td>\n",
              "    </tr>\n",
              "  </tbody>\n",
              "</table>\n",
              "</div>"
            ],
            "text/plain": [
              "   User-ID        ISBN  Book-Rating\n",
              "0   276725  034545104X            0\n",
              "1   276726  0155061224            5\n",
              "2   276727  0446520802            0\n",
              "3   276729  052165615X            3\n",
              "4   276729  0521795028            6"
            ]
          },
          "metadata": {
            "tags": []
          },
          "execution_count": 26
        }
      ]
    },
    {
      "cell_type": "code",
      "metadata": {
        "id": "oD5ZSehbdE5q",
        "colab_type": "code",
        "outputId": "afbfc138-3b29-48b5-b4b7-e6cecce4ad0b",
        "colab": {
          "base_uri": "https://localhost:8080/",
          "height": 428
        }
      },
      "source": [
        "books = pd.read_csv(DATA_PATH / 'BX-Books.csv', sep=';', decimal = ',', error_bad_lines=False,\n",
        "                      quotechar='\"', encoding = 'cp1251', comment = \"'\")\n",
        "print(books.shape)\n",
        "books.head()"
      ],
      "execution_count": 27,
      "outputs": [
        {
          "output_type": "stream",
          "text": [
            "b'Skipping line 6452: expected 8 fields, saw 9\\nSkipping line 43667: expected 8 fields, saw 10\\nSkipping line 51751: expected 8 fields, saw 9\\n'\n",
            "b'Skipping line 92038: expected 8 fields, saw 9\\nSkipping line 104319: expected 8 fields, saw 9\\nSkipping line 121768: expected 8 fields, saw 9\\n'\n",
            "b'Skipping line 144058: expected 8 fields, saw 9\\nSkipping line 150789: expected 8 fields, saw 9\\nSkipping line 157128: expected 8 fields, saw 9\\nSkipping line 180189: expected 8 fields, saw 9\\nSkipping line 185738: expected 8 fields, saw 9\\n'\n",
            "b'Skipping line 209388: expected 8 fields, saw 9\\nSkipping line 220626: expected 8 fields, saw 9\\nSkipping line 227933: expected 8 fields, saw 11\\nSkipping line 228957: expected 8 fields, saw 10\\nSkipping line 245933: expected 8 fields, saw 9\\nSkipping line 251296: expected 8 fields, saw 9\\nSkipping line 259941: expected 8 fields, saw 9\\nSkipping line 261529: expected 8 fields, saw 9\\n'\n"
          ],
          "name": "stderr"
        },
        {
          "output_type": "stream",
          "text": [
            "(271360, 8)\n"
          ],
          "name": "stdout"
        },
        {
          "output_type": "stream",
          "text": [
            "/usr/local/lib/python3.6/dist-packages/IPython/core/interactiveshell.py:2718: DtypeWarning: Columns (3) have mixed types.Specify dtype option on import or set low_memory=False.\n",
            "  interactivity=interactivity, compiler=compiler, result=result)\n"
          ],
          "name": "stderr"
        },
        {
          "output_type": "execute_result",
          "data": {
            "text/html": [
              "<div>\n",
              "<style scoped>\n",
              "    .dataframe tbody tr th:only-of-type {\n",
              "        vertical-align: middle;\n",
              "    }\n",
              "\n",
              "    .dataframe tbody tr th {\n",
              "        vertical-align: top;\n",
              "    }\n",
              "\n",
              "    .dataframe thead th {\n",
              "        text-align: right;\n",
              "    }\n",
              "</style>\n",
              "<table border=\"1\" class=\"dataframe\">\n",
              "  <thead>\n",
              "    <tr style=\"text-align: right;\">\n",
              "      <th></th>\n",
              "      <th>ISBN</th>\n",
              "      <th>Book-Title</th>\n",
              "      <th>Book-Author</th>\n",
              "      <th>Year-Of-Publication</th>\n",
              "      <th>Publisher</th>\n",
              "      <th>Image-URL-S</th>\n",
              "      <th>Image-URL-M</th>\n",
              "      <th>Image-URL-L</th>\n",
              "    </tr>\n",
              "  </thead>\n",
              "  <tbody>\n",
              "    <tr>\n",
              "      <th>0</th>\n",
              "      <td>0195153448</td>\n",
              "      <td>Classical Mythology</td>\n",
              "      <td>Mark P. O. Morford</td>\n",
              "      <td>2002</td>\n",
              "      <td>Oxford University Press</td>\n",
              "      <td>http://images.amazon.com/images/P/0195153448.0...</td>\n",
              "      <td>http://images.amazon.com/images/P/0195153448.0...</td>\n",
              "      <td>http://images.amazon.com/images/P/0195153448.0...</td>\n",
              "    </tr>\n",
              "    <tr>\n",
              "      <th>1</th>\n",
              "      <td>0002005018</td>\n",
              "      <td>Clara Callan</td>\n",
              "      <td>Richard Bruce Wright</td>\n",
              "      <td>2001</td>\n",
              "      <td>HarperFlamingo Canada</td>\n",
              "      <td>http://images.amazon.com/images/P/0002005018.0...</td>\n",
              "      <td>http://images.amazon.com/images/P/0002005018.0...</td>\n",
              "      <td>http://images.amazon.com/images/P/0002005018.0...</td>\n",
              "    </tr>\n",
              "    <tr>\n",
              "      <th>2</th>\n",
              "      <td>0060973129</td>\n",
              "      <td>Decision in Normandy</td>\n",
              "      <td>Carlo D'Este</td>\n",
              "      <td>1991</td>\n",
              "      <td>HarperPerennial</td>\n",
              "      <td>http://images.amazon.com/images/P/0060973129.0...</td>\n",
              "      <td>http://images.amazon.com/images/P/0060973129.0...</td>\n",
              "      <td>http://images.amazon.com/images/P/0060973129.0...</td>\n",
              "    </tr>\n",
              "    <tr>\n",
              "      <th>3</th>\n",
              "      <td>0374157065</td>\n",
              "      <td>Flu: The Story of the Great Influenza Pandemic...</td>\n",
              "      <td>Gina Bari Kolata</td>\n",
              "      <td>1999</td>\n",
              "      <td>Farrar Straus Giroux</td>\n",
              "      <td>http://images.amazon.com/images/P/0374157065.0...</td>\n",
              "      <td>http://images.amazon.com/images/P/0374157065.0...</td>\n",
              "      <td>http://images.amazon.com/images/P/0374157065.0...</td>\n",
              "    </tr>\n",
              "    <tr>\n",
              "      <th>4</th>\n",
              "      <td>0393045218</td>\n",
              "      <td>The Mummies of Urumchi</td>\n",
              "      <td>E. J. W. Barber</td>\n",
              "      <td>1999</td>\n",
              "      <td>W. W. Norton &amp;amp; Company</td>\n",
              "      <td>http://images.amazon.com/images/P/0393045218.0...</td>\n",
              "      <td>http://images.amazon.com/images/P/0393045218.0...</td>\n",
              "      <td>http://images.amazon.com/images/P/0393045218.0...</td>\n",
              "    </tr>\n",
              "  </tbody>\n",
              "</table>\n",
              "</div>"
            ],
            "text/plain": [
              "         ISBN  ...                                        Image-URL-L\n",
              "0  0195153448  ...  http://images.amazon.com/images/P/0195153448.0...\n",
              "1  0002005018  ...  http://images.amazon.com/images/P/0002005018.0...\n",
              "2  0060973129  ...  http://images.amazon.com/images/P/0060973129.0...\n",
              "3  0374157065  ...  http://images.amazon.com/images/P/0374157065.0...\n",
              "4  0393045218  ...  http://images.amazon.com/images/P/0393045218.0...\n",
              "\n",
              "[5 rows x 8 columns]"
            ]
          },
          "metadata": {
            "tags": []
          },
          "execution_count": 27
        }
      ]
    },
    {
      "cell_type": "code",
      "metadata": {
        "id": "xBFPYfpedE5v",
        "colab_type": "code",
        "outputId": "25a1ba00-3aef-4a8b-c5d4-261c1d5ec36b",
        "colab": {
          "base_uri": "https://localhost:8080/",
          "height": 221
        }
      },
      "source": [
        "users = pd.read_csv(DATA_PATH / 'BX-Users.csv', sep=';', quotechar='\"', encoding = 'cp1251')\n",
        "print(users.shape)\n",
        "users.head()"
      ],
      "execution_count": 28,
      "outputs": [
        {
          "output_type": "stream",
          "text": [
            "(278858, 3)\n"
          ],
          "name": "stdout"
        },
        {
          "output_type": "execute_result",
          "data": {
            "text/html": [
              "<div>\n",
              "<style scoped>\n",
              "    .dataframe tbody tr th:only-of-type {\n",
              "        vertical-align: middle;\n",
              "    }\n",
              "\n",
              "    .dataframe tbody tr th {\n",
              "        vertical-align: top;\n",
              "    }\n",
              "\n",
              "    .dataframe thead th {\n",
              "        text-align: right;\n",
              "    }\n",
              "</style>\n",
              "<table border=\"1\" class=\"dataframe\">\n",
              "  <thead>\n",
              "    <tr style=\"text-align: right;\">\n",
              "      <th></th>\n",
              "      <th>User-ID</th>\n",
              "      <th>Location</th>\n",
              "      <th>Age</th>\n",
              "    </tr>\n",
              "  </thead>\n",
              "  <tbody>\n",
              "    <tr>\n",
              "      <th>0</th>\n",
              "      <td>1</td>\n",
              "      <td>nyc, new york, usa</td>\n",
              "      <td>NaN</td>\n",
              "    </tr>\n",
              "    <tr>\n",
              "      <th>1</th>\n",
              "      <td>2</td>\n",
              "      <td>stockton, california, usa</td>\n",
              "      <td>18.0</td>\n",
              "    </tr>\n",
              "    <tr>\n",
              "      <th>2</th>\n",
              "      <td>3</td>\n",
              "      <td>moscow, yukon territory, russia</td>\n",
              "      <td>NaN</td>\n",
              "    </tr>\n",
              "    <tr>\n",
              "      <th>3</th>\n",
              "      <td>4</td>\n",
              "      <td>porto, v.n.gaia, portugal</td>\n",
              "      <td>17.0</td>\n",
              "    </tr>\n",
              "    <tr>\n",
              "      <th>4</th>\n",
              "      <td>5</td>\n",
              "      <td>farnborough, hants, united kingdom</td>\n",
              "      <td>NaN</td>\n",
              "    </tr>\n",
              "  </tbody>\n",
              "</table>\n",
              "</div>"
            ],
            "text/plain": [
              "   User-ID                            Location   Age\n",
              "0        1                  nyc, new york, usa   NaN\n",
              "1        2           stockton, california, usa  18.0\n",
              "2        3     moscow, yukon territory, russia   NaN\n",
              "3        4           porto, v.n.gaia, portugal  17.0\n",
              "4        5  farnborough, hants, united kingdom   NaN"
            ]
          },
          "metadata": {
            "tags": []
          },
          "execution_count": 28
        }
      ]
    },
    {
      "cell_type": "markdown",
      "metadata": {
        "id": "8u9BlNv_dE53",
        "colab_type": "text"
      },
      "source": [
        "### ``` Если вычислительные ресурсы не позволяют решить задачу на всех данных, то необходимо это сделать на \"сэмпле\" данных (выбрав от 5% ids' для user и item). Этот же подход справедлив и для оценки работы алгоритмов```"
      ]
    },
    {
      "cell_type": "markdown",
      "metadata": {
        "id": "SngZt2vadE54",
        "colab_type": "text"
      },
      "source": [
        "## Необходимо сделать:"
      ]
    },
    {
      "cell_type": "markdown",
      "metadata": {
        "id": "c_Lf3uQJdE55",
        "colab_type": "text"
      },
      "source": [
        "### Задание №1 : Exploratory analysis (2 балла):\n",
        "\n",
        "* Распределение числа пользователей по количеству взаимодействий\n",
        "* Разпределение числа \"айтемов\" по количеству взаимодействий\n",
        "* Распределение числа рейтингов, средних рейтингов по пользователям, по \"айтемам\"\n",
        "* и т.д. (бонус)"
      ]
    },
    {
      "cell_type": "markdown",
      "metadata": {
        "id": "HBY1RsQ3Xxz1",
        "colab_type": "text"
      },
      "source": [
        "#### 1.0 Очистка данных"
      ]
    },
    {
      "cell_type": "code",
      "metadata": {
        "id": "DacsXt2QVxLh",
        "colab_type": "code",
        "colab": {}
      },
      "source": [
        "import matplotlib.pyplot as plt\n",
        "plt.style.use('seaborn')\n",
        "%matplotlib inline"
      ],
      "execution_count": 0,
      "outputs": []
    },
    {
      "cell_type": "code",
      "metadata": {
        "id": "cHMnTOipX_Gu",
        "colab_type": "code",
        "outputId": "463301ef-b7ef-4beb-cd2d-9c0cf72d1905",
        "colab": {
          "base_uri": "https://localhost:8080/",
          "height": 68
        }
      },
      "source": [
        "# Данные: users, books, ratings\n",
        "\n",
        "print(f'Users: {len(users)}\\nBooks: {len(books)}\\nRatings: {len(ratings)}')"
      ],
      "execution_count": 30,
      "outputs": [
        {
          "output_type": "stream",
          "text": [
            "Users: 278858\n",
            "Books: 271360\n",
            "Ratings: 1149780\n"
          ],
          "name": "stdout"
        }
      ]
    },
    {
      "cell_type": "markdown",
      "metadata": {
        "id": "FsmHDGEsfLNt",
        "colab_type": "text"
      },
      "source": [
        "##### 1.0.0 Ratings часть датасета"
      ]
    },
    {
      "cell_type": "code",
      "metadata": {
        "id": "OMQJWoB7YehM",
        "colab_type": "code",
        "outputId": "ba062c18-9967-49fd-a026-21eb390a6089",
        "colab": {
          "base_uri": "https://localhost:8080/",
          "height": 204
        }
      },
      "source": [
        "# Посмотрим на каждый из них в отдельности.\n",
        "# Начнём с ratings.\n",
        "\n",
        "ratings.head()"
      ],
      "execution_count": 31,
      "outputs": [
        {
          "output_type": "execute_result",
          "data": {
            "text/html": [
              "<div>\n",
              "<style scoped>\n",
              "    .dataframe tbody tr th:only-of-type {\n",
              "        vertical-align: middle;\n",
              "    }\n",
              "\n",
              "    .dataframe tbody tr th {\n",
              "        vertical-align: top;\n",
              "    }\n",
              "\n",
              "    .dataframe thead th {\n",
              "        text-align: right;\n",
              "    }\n",
              "</style>\n",
              "<table border=\"1\" class=\"dataframe\">\n",
              "  <thead>\n",
              "    <tr style=\"text-align: right;\">\n",
              "      <th></th>\n",
              "      <th>User-ID</th>\n",
              "      <th>ISBN</th>\n",
              "      <th>Book-Rating</th>\n",
              "    </tr>\n",
              "  </thead>\n",
              "  <tbody>\n",
              "    <tr>\n",
              "      <th>0</th>\n",
              "      <td>276725</td>\n",
              "      <td>034545104X</td>\n",
              "      <td>0</td>\n",
              "    </tr>\n",
              "    <tr>\n",
              "      <th>1</th>\n",
              "      <td>276726</td>\n",
              "      <td>0155061224</td>\n",
              "      <td>5</td>\n",
              "    </tr>\n",
              "    <tr>\n",
              "      <th>2</th>\n",
              "      <td>276727</td>\n",
              "      <td>0446520802</td>\n",
              "      <td>0</td>\n",
              "    </tr>\n",
              "    <tr>\n",
              "      <th>3</th>\n",
              "      <td>276729</td>\n",
              "      <td>052165615X</td>\n",
              "      <td>3</td>\n",
              "    </tr>\n",
              "    <tr>\n",
              "      <th>4</th>\n",
              "      <td>276729</td>\n",
              "      <td>0521795028</td>\n",
              "      <td>6</td>\n",
              "    </tr>\n",
              "  </tbody>\n",
              "</table>\n",
              "</div>"
            ],
            "text/plain": [
              "   User-ID        ISBN  Book-Rating\n",
              "0   276725  034545104X            0\n",
              "1   276726  0155061224            5\n",
              "2   276727  0446520802            0\n",
              "3   276729  052165615X            3\n",
              "4   276729  0521795028            6"
            ]
          },
          "metadata": {
            "tags": []
          },
          "execution_count": 31
        }
      ]
    },
    {
      "cell_type": "code",
      "metadata": {
        "id": "mx6OxHNyY3yB",
        "colab_type": "code",
        "outputId": "de4b1439-4bd3-49e2-9214-9ea64e36c39f",
        "colab": {
          "base_uri": "https://localhost:8080/",
          "height": 357
        }
      },
      "source": [
        "print('Types:\\n', ratings.dtypes, sep='')\n",
        "\n",
        "print()\n",
        "\n",
        "userActivity = ratings.groupby('User-ID').ISBN.count().sort_values(ascending=False)\n",
        "print('10 users with the highest amount of given ratings: \\n')\n",
        "print(userActivity[:10])\n",
        "\n",
        "# 13 тысяч оценок. Впечатляет."
      ],
      "execution_count": 32,
      "outputs": [
        {
          "output_type": "stream",
          "text": [
            "Types:\n",
            "User-ID         int64\n",
            "ISBN           object\n",
            "Book-Rating     int64\n",
            "dtype: object\n",
            "\n",
            "10 users with the highest amount of given ratings: \n",
            "\n",
            "User-ID\n",
            "11676     13602\n",
            "198711     7550\n",
            "153662     6109\n",
            "98391      5891\n",
            "35859      5850\n",
            "212898     4785\n",
            "278418     4533\n",
            "76352      3367\n",
            "110973     3100\n",
            "235105     3067\n",
            "Name: ISBN, dtype: int64\n"
          ],
          "name": "stdout"
        }
      ]
    },
    {
      "cell_type": "code",
      "metadata": {
        "id": "GfOUbw0ZaCL5",
        "colab_type": "code",
        "outputId": "681b987c-db5c-423d-8316-5476a652bffc",
        "colab": {
          "base_uri": "https://localhost:8080/",
          "height": 497
        }
      },
      "source": [
        "# Их распределение\n",
        "\n",
        "plt.figure(figsize=(8, 8))\n",
        "userActivity.where(userActivity<100).hist(bins=30) # Уберём тех, кто поставил больше 100 оценок. Остальных распределим в 30 \"корзин\".\n",
        "plt.xlabel('Количество выставленных оценок')\n",
        "plt.ylabel('Количество пользователей')\n",
        "plt.show()\n",
        "\n",
        "# Большинство пользователей ставили от 0 до 2\\3 оценок -> пользователи из предыдущего распределения (highest amount of given ratings) - выбросы."
      ],
      "execution_count": 33,
      "outputs": [
        {
          "output_type": "display_data",
          "data": {
            "image/png": "[encoded data removed]",
            "text/plain": [
              "<Figure size 576x576 with 1 Axes>"
            ]
          },
          "metadata": {
            "tags": [],
            "needs_background": "light"
          }
        }
      ]
    },
    {
      "cell_type": "code",
      "metadata": {
        "id": "0KqvyudPcErY",
        "colab_type": "code",
        "outputId": "68f2bdf1-f412-4d3c-b822-f57db5d3bb17",
        "colab": {
          "base_uri": "https://localhost:8080/",
          "height": 497
        }
      },
      "source": [
        "plt.figure(figsize=(8, 8))\n",
        "userActivity.where(userActivity>1000).hist(bins=30) # Уберём тех, кто поставил меньше 1000 оценок. Остальных - \"выбросы\" - распределим в 30 \"корзин\".\n",
        "plt.xlabel('Количество выставленных оценок')\n",
        "plt.ylabel('Количество пользователей')\n",
        "plt.show()\n",
        "\n",
        "# Всего около 200 человек, большинство из которых поставили в районе 2000 оценок."
      ],
      "execution_count": 34,
      "outputs": [
        {
          "output_type": "display_data",
          "data": {
            "image/png": "[encoded data removed]",
            "text/plain": [
              "<Figure size 576x576 with 1 Axes>"
            ]
          },
          "metadata": {
            "tags": [],
            "needs_background": "light"
          }
        }
      ]
    },
    {
      "cell_type": "markdown",
      "metadata": {
        "id": "EWzsfxRHxxCl",
        "colab_type": "text"
      },
      "source": [
        "### Задание №2 : Оценить разреженность данных по рейтингу (1/2 балла)"
      ]
    },
    {
      "cell_type": "code",
      "metadata": {
        "id": "HTdutERwccka",
        "colab_type": "code",
        "outputId": "0a6f529e-acd5-4692-8cbe-3fac52521a7c",
        "colab": {
          "base_uri": "https://localhost:8080/",
          "height": 334
        }
      },
      "source": [
        "rtg = ratings['Book-Rating'].value_counts().sort_index()\n",
        "\n",
        "plt.figure(figsize=(10, 5))\n",
        "plt.bar(rtg.index, rtg.values)\n",
        "plt.xlabel('Рейтинг')\n",
        "plt.ylabel('Количество')\n",
        "plt.show()"
      ],
      "execution_count": 35,
      "outputs": [
        {
          "output_type": "display_data",
          "data": {
            "image/png": "[encoded data removed]",
            "text/plain": [
              "<Figure size 720x360 with 1 Axes>"
            ]
          },
          "metadata": {
            "tags": [],
            "needs_background": "light"
          }
        }
      ]
    },
    {
      "cell_type": "markdown",
      "metadata": {
        "id": "Ntfo1KsaeazF",
        "colab_type": "text"
      },
      "source": [
        "Большинство оценок - нули, около 700 тысяч. Относительно много 8 и 10.\n",
        "\n",
        "Возможно, стоит убрать 0, т.к. они, во-первых, образуют скошенность, во-вторых, это может быть и не 0 на самом деле, а какой-то вид взаимодействия - просто маркирование этого взаимодействия (или, быть может, отсутствия этого взаимодействия)."
      ]
    },
    {
      "cell_type": "code",
      "metadata": {
        "id": "9_bjxlvidDIk",
        "colab_type": "code",
        "outputId": "1547b913-5b85-4d73-a4eb-2643d98676fe",
        "colab": {
          "base_uri": "https://localhost:8080/",
          "height": 334
        }
      },
      "source": [
        "ratings = ratings[ratings['Book-Rating'] != 0]\n",
        "\n",
        "# Посмотрим на распределение уже без 0.\n",
        "\n",
        "rtg = ratings['Book-Rating'].value_counts().sort_index()\n",
        "\n",
        "plt.figure(figsize=(10, 5))\n",
        "plt.bar(rtg.index, rtg.values)\n",
        "plt.xlabel('Рейтинг')\n",
        "plt.ylabel('Количество')\n",
        "plt.show()"
      ],
      "execution_count": 36,
      "outputs": [
        {
          "output_type": "display_data",
          "data": {
            "image/png": "[encoded data removed]",
            "text/plain": [
              "<Figure size 720x360 with 1 Axes>"
            ]
          },
          "metadata": {
            "tags": [],
            "needs_background": "light"
          }
        }
      ]
    },
    {
      "cell_type": "markdown",
      "metadata": {
        "id": "POV5wSL6fAfJ",
        "colab_type": "text"
      },
      "source": [
        "Уже похоже на что-то \"нормальное\", где довольно много высоких и средних оценок."
      ]
    },
    {
      "cell_type": "code",
      "metadata": {
        "id": "jD6H_-gXjLP-",
        "colab_type": "code",
        "colab": {}
      },
      "source": [
        "ratings.dropna(inplace=True) # Уберём NaN значения"
      ],
      "execution_count": 0,
      "outputs": []
    },
    {
      "cell_type": "markdown",
      "metadata": {
        "id": "vO9AFAXf7gnN",
        "colab_type": "text"
      },
      "source": [
        "### Продолжение задания №1"
      ]
    },
    {
      "cell_type": "markdown",
      "metadata": {
        "id": "7YNSoQr8fVpM",
        "colab_type": "text"
      },
      "source": [
        "##### 1.0.1 Books часть датасета"
      ]
    },
    {
      "cell_type": "code",
      "metadata": {
        "id": "Ok_U9aWJe544",
        "colab_type": "code",
        "outputId": "7de2d6d8-93db-4bf7-a5b1-7417ae60952e",
        "colab": {
          "base_uri": "https://localhost:8080/",
          "height": 289
        }
      },
      "source": [
        "books.head()"
      ],
      "execution_count": 38,
      "outputs": [
        {
          "output_type": "execute_result",
          "data": {
            "text/html": [
              "<div>\n",
              "<style scoped>\n",
              "    .dataframe tbody tr th:only-of-type {\n",
              "        vertical-align: middle;\n",
              "    }\n",
              "\n",
              "    .dataframe tbody tr th {\n",
              "        vertical-align: top;\n",
              "    }\n",
              "\n",
              "    .dataframe thead th {\n",
              "        text-align: right;\n",
              "    }\n",
              "</style>\n",
              "<table border=\"1\" class=\"dataframe\">\n",
              "  <thead>\n",
              "    <tr style=\"text-align: right;\">\n",
              "      <th></th>\n",
              "      <th>ISBN</th>\n",
              "      <th>Book-Title</th>\n",
              "      <th>Book-Author</th>\n",
              "      <th>Year-Of-Publication</th>\n",
              "      <th>Publisher</th>\n",
              "      <th>Image-URL-S</th>\n",
              "      <th>Image-URL-M</th>\n",
              "      <th>Image-URL-L</th>\n",
              "    </tr>\n",
              "  </thead>\n",
              "  <tbody>\n",
              "    <tr>\n",
              "      <th>0</th>\n",
              "      <td>0195153448</td>\n",
              "      <td>Classical Mythology</td>\n",
              "      <td>Mark P. O. Morford</td>\n",
              "      <td>2002</td>\n",
              "      <td>Oxford University Press</td>\n",
              "      <td>http://images.amazon.com/images/P/0195153448.0...</td>\n",
              "      <td>http://images.amazon.com/images/P/0195153448.0...</td>\n",
              "      <td>http://images.amazon.com/images/P/0195153448.0...</td>\n",
              "    </tr>\n",
              "    <tr>\n",
              "      <th>1</th>\n",
              "      <td>0002005018</td>\n",
              "      <td>Clara Callan</td>\n",
              "      <td>Richard Bruce Wright</td>\n",
              "      <td>2001</td>\n",
              "      <td>HarperFlamingo Canada</td>\n",
              "      <td>http://images.amazon.com/images/P/0002005018.0...</td>\n",
              "      <td>http://images.amazon.com/images/P/0002005018.0...</td>\n",
              "      <td>http://images.amazon.com/images/P/0002005018.0...</td>\n",
              "    </tr>\n",
              "    <tr>\n",
              "      <th>2</th>\n",
              "      <td>0060973129</td>\n",
              "      <td>Decision in Normandy</td>\n",
              "      <td>Carlo D'Este</td>\n",
              "      <td>1991</td>\n",
              "      <td>HarperPerennial</td>\n",
              "      <td>http://images.amazon.com/images/P/0060973129.0...</td>\n",
              "      <td>http://images.amazon.com/images/P/0060973129.0...</td>\n",
              "      <td>http://images.amazon.com/images/P/0060973129.0...</td>\n",
              "    </tr>\n",
              "    <tr>\n",
              "      <th>3</th>\n",
              "      <td>0374157065</td>\n",
              "      <td>Flu: The Story of the Great Influenza Pandemic...</td>\n",
              "      <td>Gina Bari Kolata</td>\n",
              "      <td>1999</td>\n",
              "      <td>Farrar Straus Giroux</td>\n",
              "      <td>http://images.amazon.com/images/P/0374157065.0...</td>\n",
              "      <td>http://images.amazon.com/images/P/0374157065.0...</td>\n",
              "      <td>http://images.amazon.com/images/P/0374157065.0...</td>\n",
              "    </tr>\n",
              "    <tr>\n",
              "      <th>4</th>\n",
              "      <td>0393045218</td>\n",
              "      <td>The Mummies of Urumchi</td>\n",
              "      <td>E. J. W. Barber</td>\n",
              "      <td>1999</td>\n",
              "      <td>W. W. Norton &amp;amp; Company</td>\n",
              "      <td>http://images.amazon.com/images/P/0393045218.0...</td>\n",
              "      <td>http://images.amazon.com/images/P/0393045218.0...</td>\n",
              "      <td>http://images.amazon.com/images/P/0393045218.0...</td>\n",
              "    </tr>\n",
              "  </tbody>\n",
              "</table>\n",
              "</div>"
            ],
            "text/plain": [
              "         ISBN  ...                                        Image-URL-L\n",
              "0  0195153448  ...  http://images.amazon.com/images/P/0195153448.0...\n",
              "1  0002005018  ...  http://images.amazon.com/images/P/0002005018.0...\n",
              "2  0060973129  ...  http://images.amazon.com/images/P/0060973129.0...\n",
              "3  0374157065  ...  http://images.amazon.com/images/P/0374157065.0...\n",
              "4  0393045218  ...  http://images.amazon.com/images/P/0393045218.0...\n",
              "\n",
              "[5 rows x 8 columns]"
            ]
          },
          "metadata": {
            "tags": []
          },
          "execution_count": 38
        }
      ]
    },
    {
      "cell_type": "code",
      "metadata": {
        "id": "74dfc9OPfis3",
        "colab_type": "code",
        "colab": {}
      },
      "source": [
        "# Сразу видно, что можно удалить столбцы со ссылками на картинки\n",
        "\n",
        "books.drop(columns=['Image-URL-S', 'Image-URL-M', 'Image-URL-L'], inplace=True)"
      ],
      "execution_count": 0,
      "outputs": []
    },
    {
      "cell_type": "code",
      "metadata": {
        "id": "h_UHThx1f85c",
        "colab_type": "code",
        "outputId": "c0f50888-43fb-4014-90d6-1ab468c44e3d",
        "colab": {
          "base_uri": "https://localhost:8080/",
          "height": 119
        }
      },
      "source": [
        "books.dtypes \n",
        "\n",
        "# Год скорее должен быть числом, чем объектом\\строкой"
      ],
      "execution_count": 40,
      "outputs": [
        {
          "output_type": "execute_result",
          "data": {
            "text/plain": [
              "ISBN                   object\n",
              "Book-Title             object\n",
              "Book-Author            object\n",
              "Year-Of-Publication    object\n",
              "Publisher              object\n",
              "dtype: object"
            ]
          },
          "metadata": {
            "tags": []
          },
          "execution_count": 40
        }
      ]
    },
    {
      "cell_type": "code",
      "metadata": {
        "id": "DGEyt1UbihtA",
        "colab_type": "code",
        "outputId": "55dd3e84-8218-4ef5-b1fe-6b3924a69a42",
        "colab": {
          "base_uri": "https://localhost:8080/",
          "height": 51
        }
      },
      "source": [
        "books['Year-Of-Publication'] = pd.to_numeric(books['Year-Of-Publication'], errors='coerce') # Сконвертируем\n",
        "\n",
        "# Уберём все вхождения, где год публикации = 0 (чего быть не может) и NaN.\n",
        "\n",
        "books['Year-Of-Publication'].replace(0, np.nan, inplace=True)\n",
        "\n",
        "print(f'Original size: {books.shape}')\n",
        "\n",
        "books.dropna(inplace=True) # И уберём их.\n",
        "\n",
        "print(f'After NaN cleaning: {books.shape}')"
      ],
      "execution_count": 41,
      "outputs": [
        {
          "output_type": "stream",
          "text": [
            "Original size: (271360, 5)\n",
            "After NaN cleaning: (266636, 5)\n"
          ],
          "name": "stdout"
        }
      ]
    },
    {
      "cell_type": "code",
      "metadata": {
        "id": "fI--VObNlPEl",
        "colab_type": "code",
        "outputId": "3d4d56b8-f66c-4d35-adf8-c94bf9b3fa60",
        "colab": {
          "base_uri": "https://localhost:8080/",
          "height": 878
        }
      },
      "source": [
        "# Посмотрим на распределение - примерно как было с ratings.\n",
        "\n",
        "yr = books['Year-Of-Publication'].value_counts().sort_index()\n",
        "yr = yr.where(yr > 5) # Убрать книги, у которых год публикации < 5 - без данного условия график слишком растянут + это выбросы (скорее всего).\n",
        "plt.figure(figsize=(15, 15))\n",
        "plt.bar(yr.index, yr.values)\n",
        "plt.xlabel('Год публикации')\n",
        "plt.ylabel('Количество')\n",
        "plt.show()\n",
        "\n",
        "# Большинство книг довольно современные: позже ~1980."
      ],
      "execution_count": 42,
      "outputs": [
        {
          "output_type": "display_data",
          "data": {
            "image/png": "[encoded data removed]",
            "text/plain": [
              "<Figure size 1080x1080 with 1 Axes>"
            ]
          },
          "metadata": {
            "tags": [],
            "needs_background": "light"
          }
        }
      ]
    },
    {
      "cell_type": "code",
      "metadata": {
        "id": "BVlu5oPxmBfP",
        "colab_type": "code",
        "outputId": "72a46a2f-06a4-486b-d6d3-d33adb959590",
        "colab": {
          "base_uri": "https://localhost:8080/",
          "height": 34
        }
      },
      "source": [
        "print(f'Unique books: {books.ISBN.nunique()} | All: {books.ISBN.count()}') # Посмотрим, есть ли дубликаты."
      ],
      "execution_count": 43,
      "outputs": [
        {
          "output_type": "stream",
          "text": [
            "Unique books: 266636 | All: 266636\n"
          ],
          "name": "stdout"
        }
      ]
    },
    {
      "cell_type": "code",
      "metadata": {
        "id": "9U2g-G0AmV_F",
        "colab_type": "code",
        "outputId": "c52f4c14-285c-4a6e-b1fd-d99b80e43943",
        "colab": {
          "base_uri": "https://localhost:8080/",
          "height": 221
        }
      },
      "source": [
        "print(f'Publishers with the most publications:\\n{books.Publisher.value_counts()[:10]}') # Посмотрим на самых \"многовыпускающих\" издательств."
      ],
      "execution_count": 44,
      "outputs": [
        {
          "output_type": "stream",
          "text": [
            "Publishers with the most publications:\n",
            "Harlequin                   7535\n",
            "Silhouette                  4220\n",
            "Pocket                      3870\n",
            "Ballantine Books            3763\n",
            "Bantam Books                3640\n",
            "Scholastic                  3157\n",
            "Simon &amp; Schuster        2967\n",
            "Penguin Books               2843\n",
            "Berkley Publishing Group    2767\n",
            "Penguin USA                 2715\n",
            "Name: Publisher, dtype: int64\n"
          ],
          "name": "stdout"
        }
      ]
    },
    {
      "cell_type": "code",
      "metadata": {
        "id": "b7z4mVtaoPoG",
        "colab_type": "code",
        "outputId": "ddfcb1f6-6230-42be-cca1-dcf2fc588971",
        "colab": {
          "base_uri": "https://localhost:8080/",
          "height": 221
        }
      },
      "source": [
        "authors = books['Book-Author'].value_counts()[:10]\n",
        "print(f'Publishers with the most publications:\\n{authors}') # И на самых публикующихся авторов.\n",
        "\n",
        "# Конечно же Агата Кристи, Шекспир и Кинг."
      ],
      "execution_count": 45,
      "outputs": [
        {
          "output_type": "stream",
          "text": [
            "Publishers with the most publications:\n",
            "Agatha Christie        598\n",
            "William Shakespeare    559\n",
            "Stephen King           511\n",
            "Ann M. Martin          423\n",
            "Francine Pascal        372\n",
            "Carolyn Keene          372\n",
            "Isaac Asimov           328\n",
            "Nora Roberts           313\n",
            "Barbara Cartland       307\n",
            "Charles Dickens        295\n",
            "Name: Book-Author, dtype: int64\n"
          ],
          "name": "stdout"
        }
      ]
    },
    {
      "cell_type": "markdown",
      "metadata": {
        "id": "MLQkSLBvo1HA",
        "colab_type": "text"
      },
      "source": [
        "Из авторов и издательств NaN уже были удалены."
      ]
    },
    {
      "cell_type": "markdown",
      "metadata": {
        "id": "ygjQWeLao6DC",
        "colab_type": "text"
      },
      "source": [
        "##### 1.0.2 Users часть датасета"
      ]
    },
    {
      "cell_type": "code",
      "metadata": {
        "id": "NIRmMP6aosf9",
        "colab_type": "code",
        "outputId": "7335fe52-f079-4977-9cdf-cbc0ae970f8f",
        "colab": {
          "base_uri": "https://localhost:8080/",
          "height": 204
        }
      },
      "source": [
        "users.head()"
      ],
      "execution_count": 46,
      "outputs": [
        {
          "output_type": "execute_result",
          "data": {
            "text/html": [
              "<div>\n",
              "<style scoped>\n",
              "    .dataframe tbody tr th:only-of-type {\n",
              "        vertical-align: middle;\n",
              "    }\n",
              "\n",
              "    .dataframe tbody tr th {\n",
              "        vertical-align: top;\n",
              "    }\n",
              "\n",
              "    .dataframe thead th {\n",
              "        text-align: right;\n",
              "    }\n",
              "</style>\n",
              "<table border=\"1\" class=\"dataframe\">\n",
              "  <thead>\n",
              "    <tr style=\"text-align: right;\">\n",
              "      <th></th>\n",
              "      <th>User-ID</th>\n",
              "      <th>Location</th>\n",
              "      <th>Age</th>\n",
              "    </tr>\n",
              "  </thead>\n",
              "  <tbody>\n",
              "    <tr>\n",
              "      <th>0</th>\n",
              "      <td>1</td>\n",
              "      <td>nyc, new york, usa</td>\n",
              "      <td>NaN</td>\n",
              "    </tr>\n",
              "    <tr>\n",
              "      <th>1</th>\n",
              "      <td>2</td>\n",
              "      <td>stockton, california, usa</td>\n",
              "      <td>18.0</td>\n",
              "    </tr>\n",
              "    <tr>\n",
              "      <th>2</th>\n",
              "      <td>3</td>\n",
              "      <td>moscow, yukon territory, russia</td>\n",
              "      <td>NaN</td>\n",
              "    </tr>\n",
              "    <tr>\n",
              "      <th>3</th>\n",
              "      <td>4</td>\n",
              "      <td>porto, v.n.gaia, portugal</td>\n",
              "      <td>17.0</td>\n",
              "    </tr>\n",
              "    <tr>\n",
              "      <th>4</th>\n",
              "      <td>5</td>\n",
              "      <td>farnborough, hants, united kingdom</td>\n",
              "      <td>NaN</td>\n",
              "    </tr>\n",
              "  </tbody>\n",
              "</table>\n",
              "</div>"
            ],
            "text/plain": [
              "   User-ID                            Location   Age\n",
              "0        1                  nyc, new york, usa   NaN\n",
              "1        2           stockton, california, usa  18.0\n",
              "2        3     moscow, yukon territory, russia   NaN\n",
              "3        4           porto, v.n.gaia, portugal  17.0\n",
              "4        5  farnborough, hants, united kingdom   NaN"
            ]
          },
          "metadata": {
            "tags": []
          },
          "execution_count": 46
        }
      ]
    },
    {
      "cell_type": "code",
      "metadata": {
        "id": "oZ1LycGzjrxw",
        "colab_type": "code",
        "outputId": "3a00ad00-5134-4dfd-e1ae-912ae3924183",
        "colab": {
          "base_uri": "https://localhost:8080/",
          "height": 85
        }
      },
      "source": [
        "users.dtypes\n",
        "\n",
        "# Возраст скорее должен быть в целых числах"
      ],
      "execution_count": 47,
      "outputs": [
        {
          "output_type": "execute_result",
          "data": {
            "text/plain": [
              "User-ID       int64\n",
              "Location     object\n",
              "Age         float64\n",
              "dtype: object"
            ]
          },
          "metadata": {
            "tags": []
          },
          "execution_count": 47
        }
      ]
    },
    {
      "cell_type": "code",
      "metadata": {
        "id": "ovPtlmzZnqsh",
        "colab_type": "code",
        "outputId": "bf424c55-aff7-4461-f625-4502450a9f36",
        "colab": {
          "base_uri": "https://localhost:8080/",
          "height": 289
        }
      },
      "source": [
        "users['Age'].unique()\n",
        "\n",
        "# Есть \"пользоватли\" младше 10 и старше 100!\n",
        "# Уберём их как нерелевантные."
      ],
      "execution_count": 48,
      "outputs": [
        {
          "output_type": "execute_result",
          "data": {
            "text/plain": [
              "array([ nan,  18.,  17.,  61.,  26.,  14.,  25.,  19.,  46.,  55.,  32.,\n",
              "        24.,  20.,  34.,  23.,  51.,  31.,  21.,  44.,  30.,  57.,  43.,\n",
              "        37.,  41.,  54.,  42.,  50.,  39.,  53.,  47.,  36.,  28.,  35.,\n",
              "        13.,  58.,  49.,  38.,  45.,  62.,  63.,  27.,  33.,  29.,  66.,\n",
              "        40.,  15.,  60.,   0.,  79.,  22.,  16.,  65.,  59.,  48.,  72.,\n",
              "        56.,  67.,   1.,  80.,  52.,  69.,  71.,  73.,  78.,   9.,  64.,\n",
              "       103., 104.,  12.,  74.,  75., 231.,   3.,  76.,  83.,  68., 119.,\n",
              "        11.,  77.,   2.,  70.,  93.,   8.,   7.,   4.,  81., 114., 230.,\n",
              "       239.,  10.,   5., 148., 151.,   6., 101., 201.,  96.,  84.,  82.,\n",
              "        90., 123., 244., 133.,  91., 128.,  94.,  85., 141., 110.,  97.,\n",
              "       219.,  86., 124.,  92., 175., 172., 209., 212., 237.,  87., 162.,\n",
              "       100., 156., 136.,  95.,  89., 106.,  99., 108., 210.,  88., 199.,\n",
              "       147., 168., 132., 159., 186., 152., 102., 116., 200., 115., 226.,\n",
              "       137., 207., 229., 138., 109., 105., 228., 183., 204.,  98., 223.,\n",
              "       113., 208., 107., 157., 111., 146., 118., 220., 143., 140., 189.,\n",
              "       127.])"
            ]
          },
          "metadata": {
            "tags": []
          },
          "execution_count": 48
        }
      ]
    },
    {
      "cell_type": "code",
      "metadata": {
        "id": "9fLU92UVn-1H",
        "colab_type": "code",
        "colab": {}
      },
      "source": [
        "users.loc[(users.Age < 10) | (users.Age > 100), 'Age'] = np.nan\n",
        "users.dropna(inplace=True)"
      ],
      "execution_count": 0,
      "outputs": []
    },
    {
      "cell_type": "code",
      "metadata": {
        "id": "Y9EKPZSToPs6",
        "colab_type": "code",
        "outputId": "83acd39a-6e44-4751-efae-2af58b2d4490",
        "colab": {
          "base_uri": "https://localhost:8080/",
          "height": 877
        }
      },
      "source": [
        "# Посмотрим на распределение возраста.\n",
        "\n",
        "ag = users['Age'].value_counts().sort_index()\n",
        "plt.figure(figsize=(15, 15))\n",
        "plt.bar(ag.index, ag.values)\n",
        "plt.xlabel('Возраст')\n",
        "plt.ylabel('Количество')\n",
        "plt.show()\n",
        "\n",
        "# Большинство пользователей - от 20 до 50 лет."
      ],
      "execution_count": 50,
      "outputs": [
        {
          "output_type": "display_data",
          "data": {
            "image/png": "[encoded data removed]",
            "text/plain": [
              "<Figure size 1080x1080 with 1 Axes>"
            ]
          },
          "metadata": {
            "tags": [],
            "needs_background": "light"
          }
        }
      ]
    },
    {
      "cell_type": "code",
      "metadata": {
        "id": "2ASblikQosZP",
        "colab_type": "code",
        "outputId": "d3826d35-e4cc-4c3b-d204-49d3dd0bf2bf",
        "colab": {
          "base_uri": "https://localhost:8080/",
          "height": 221
        }
      },
      "source": [
        "# Нужно как-то преобразовать столбец Location, т.к. в нём сразу всё.\n",
        "\n",
        "users.Location\n",
        "\n",
        "# Через запятую идут - город, штат\\область\\etc и страна -> нужно преобразовать. "
      ],
      "execution_count": 51,
      "outputs": [
        {
          "output_type": "execute_result",
          "data": {
            "text/plain": [
              "1                  stockton, california, usa\n",
              "3                  porto, v.n.gaia, portugal\n",
              "5              santa monica, california, usa\n",
              "9                 albacete, wisconsin, spain\n",
              "10            melbourne, victoria, australia\n",
              "                         ...                \n",
              "278848           georgetown, ontario, canada\n",
              "278850                    dallas, texas, usa\n",
              "278851       brisbane, queensland, australia\n",
              "278852        stranraer, n/a, united kingdom\n",
              "278854    tacoma, washington, united kingdom\n",
              "Name: Location, Length: 166661, dtype: object"
            ]
          },
          "metadata": {
            "tags": []
          },
          "execution_count": 51
        }
      ]
    },
    {
      "cell_type": "code",
      "metadata": {
        "id": "Xkkn-YSauFAA",
        "colab_type": "code",
        "outputId": "f7c7635f-8f72-4b92-943a-4ea000110471",
        "colab": {
          "base_uri": "https://localhost:8080/",
          "height": 419
        }
      },
      "source": [
        "locationNew = users['Location'].str.split(',', 2, expand=True) # Разделяем по запятой, 2 - максимум разделений (если вдруг внутри есть запятые) + expand -> преобразуем сразу в датафрейм.\n",
        "\n",
        "locationNew"
      ],
      "execution_count": 52,
      "outputs": [
        {
          "output_type": "execute_result",
          "data": {
            "text/html": [
              "<div>\n",
              "<style scoped>\n",
              "    .dataframe tbody tr th:only-of-type {\n",
              "        vertical-align: middle;\n",
              "    }\n",
              "\n",
              "    .dataframe tbody tr th {\n",
              "        vertical-align: top;\n",
              "    }\n",
              "\n",
              "    .dataframe thead th {\n",
              "        text-align: right;\n",
              "    }\n",
              "</style>\n",
              "<table border=\"1\" class=\"dataframe\">\n",
              "  <thead>\n",
              "    <tr style=\"text-align: right;\">\n",
              "      <th></th>\n",
              "      <th>0</th>\n",
              "      <th>1</th>\n",
              "      <th>2</th>\n",
              "    </tr>\n",
              "  </thead>\n",
              "  <tbody>\n",
              "    <tr>\n",
              "      <th>1</th>\n",
              "      <td>stockton</td>\n",
              "      <td>california</td>\n",
              "      <td>usa</td>\n",
              "    </tr>\n",
              "    <tr>\n",
              "      <th>3</th>\n",
              "      <td>porto</td>\n",
              "      <td>v.n.gaia</td>\n",
              "      <td>portugal</td>\n",
              "    </tr>\n",
              "    <tr>\n",
              "      <th>5</th>\n",
              "      <td>santa monica</td>\n",
              "      <td>california</td>\n",
              "      <td>usa</td>\n",
              "    </tr>\n",
              "    <tr>\n",
              "      <th>9</th>\n",
              "      <td>albacete</td>\n",
              "      <td>wisconsin</td>\n",
              "      <td>spain</td>\n",
              "    </tr>\n",
              "    <tr>\n",
              "      <th>10</th>\n",
              "      <td>melbourne</td>\n",
              "      <td>victoria</td>\n",
              "      <td>australia</td>\n",
              "    </tr>\n",
              "    <tr>\n",
              "      <th>...</th>\n",
              "      <td>...</td>\n",
              "      <td>...</td>\n",
              "      <td>...</td>\n",
              "    </tr>\n",
              "    <tr>\n",
              "      <th>278848</th>\n",
              "      <td>georgetown</td>\n",
              "      <td>ontario</td>\n",
              "      <td>canada</td>\n",
              "    </tr>\n",
              "    <tr>\n",
              "      <th>278850</th>\n",
              "      <td>dallas</td>\n",
              "      <td>texas</td>\n",
              "      <td>usa</td>\n",
              "    </tr>\n",
              "    <tr>\n",
              "      <th>278851</th>\n",
              "      <td>brisbane</td>\n",
              "      <td>queensland</td>\n",
              "      <td>australia</td>\n",
              "    </tr>\n",
              "    <tr>\n",
              "      <th>278852</th>\n",
              "      <td>stranraer</td>\n",
              "      <td>n/a</td>\n",
              "      <td>united kingdom</td>\n",
              "    </tr>\n",
              "    <tr>\n",
              "      <th>278854</th>\n",
              "      <td>tacoma</td>\n",
              "      <td>washington</td>\n",
              "      <td>united kingdom</td>\n",
              "    </tr>\n",
              "  </tbody>\n",
              "</table>\n",
              "<p>166661 rows × 3 columns</p>\n",
              "</div>"
            ],
            "text/plain": [
              "                   0            1                2\n",
              "1           stockton   california              usa\n",
              "3              porto     v.n.gaia         portugal\n",
              "5       santa monica   california              usa\n",
              "9           albacete    wisconsin            spain\n",
              "10         melbourne     victoria        australia\n",
              "...              ...          ...              ...\n",
              "278848    georgetown      ontario           canada\n",
              "278850        dallas        texas              usa\n",
              "278851      brisbane   queensland        australia\n",
              "278852     stranraer          n/a   united kingdom\n",
              "278854        tacoma   washington   united kingdom\n",
              "\n",
              "[166661 rows x 3 columns]"
            ]
          },
          "metadata": {
            "tags": []
          },
          "execution_count": 52
        }
      ]
    },
    {
      "cell_type": "code",
      "metadata": {
        "id": "7MgTG-8yvFR0",
        "colab_type": "code",
        "colab": {}
      },
      "source": [
        "locationNew.columns = ['city', 'county', 'country'] # Назовём их.\n",
        "\n",
        "users = users.join(locationNew) # Смёржим новую локацию с оригинальным датафреймом.\n",
        "\n",
        "users.drop(columns=['Location'], inplace=True) # И уберём старую запись."
      ],
      "execution_count": 0,
      "outputs": []
    },
    {
      "cell_type": "code",
      "metadata": {
        "id": "Ednl16wEv1Sh",
        "colab_type": "code",
        "outputId": "4345cfb9-8854-4aae-8c69-7f208ae8cd83",
        "colab": {
          "base_uri": "https://localhost:8080/",
          "height": 204
        }
      },
      "source": [
        "users.head()"
      ],
      "execution_count": 54,
      "outputs": [
        {
          "output_type": "execute_result",
          "data": {
            "text/html": [
              "<div>\n",
              "<style scoped>\n",
              "    .dataframe tbody tr th:only-of-type {\n",
              "        vertical-align: middle;\n",
              "    }\n",
              "\n",
              "    .dataframe tbody tr th {\n",
              "        vertical-align: top;\n",
              "    }\n",
              "\n",
              "    .dataframe thead th {\n",
              "        text-align: right;\n",
              "    }\n",
              "</style>\n",
              "<table border=\"1\" class=\"dataframe\">\n",
              "  <thead>\n",
              "    <tr style=\"text-align: right;\">\n",
              "      <th></th>\n",
              "      <th>User-ID</th>\n",
              "      <th>Age</th>\n",
              "      <th>city</th>\n",
              "      <th>county</th>\n",
              "      <th>country</th>\n",
              "    </tr>\n",
              "  </thead>\n",
              "  <tbody>\n",
              "    <tr>\n",
              "      <th>1</th>\n",
              "      <td>2</td>\n",
              "      <td>18.0</td>\n",
              "      <td>stockton</td>\n",
              "      <td>california</td>\n",
              "      <td>usa</td>\n",
              "    </tr>\n",
              "    <tr>\n",
              "      <th>3</th>\n",
              "      <td>4</td>\n",
              "      <td>17.0</td>\n",
              "      <td>porto</td>\n",
              "      <td>v.n.gaia</td>\n",
              "      <td>portugal</td>\n",
              "    </tr>\n",
              "    <tr>\n",
              "      <th>5</th>\n",
              "      <td>6</td>\n",
              "      <td>61.0</td>\n",
              "      <td>santa monica</td>\n",
              "      <td>california</td>\n",
              "      <td>usa</td>\n",
              "    </tr>\n",
              "    <tr>\n",
              "      <th>9</th>\n",
              "      <td>10</td>\n",
              "      <td>26.0</td>\n",
              "      <td>albacete</td>\n",
              "      <td>wisconsin</td>\n",
              "      <td>spain</td>\n",
              "    </tr>\n",
              "    <tr>\n",
              "      <th>10</th>\n",
              "      <td>11</td>\n",
              "      <td>14.0</td>\n",
              "      <td>melbourne</td>\n",
              "      <td>victoria</td>\n",
              "      <td>australia</td>\n",
              "    </tr>\n",
              "  </tbody>\n",
              "</table>\n",
              "</div>"
            ],
            "text/plain": [
              "    User-ID   Age          city       county     country\n",
              "1         2  18.0      stockton   california         usa\n",
              "3         4  17.0         porto     v.n.gaia    portugal\n",
              "5         6  61.0  santa monica   california         usa\n",
              "9        10  26.0      albacete    wisconsin       spain\n",
              "10       11  14.0     melbourne     victoria   australia"
            ]
          },
          "metadata": {
            "tags": []
          },
          "execution_count": 54
        }
      ]
    },
    {
      "cell_type": "code",
      "metadata": {
        "id": "6kWf3SZjv-NH",
        "colab_type": "code",
        "outputId": "6a482d56-87d5-4d60-c72b-04485c990b4a",
        "colab": {
          "base_uri": "https://localhost:8080/",
          "height": 578
        }
      },
      "source": [
        "# Посмотрим на самые популярные города и страны.\n",
        "\n",
        "print(users.city.value_counts()[:15]) # Много из Барселоны, Лондона и Мадрида.\n",
        "\n",
        "print()\n",
        "\n",
        "print(users.country.value_counts()[:15]) # Большинство, конечно же, из США."
      ],
      "execution_count": 55,
      "outputs": [
        {
          "output_type": "stream",
          "text": [
            "barcelona    2520\n",
            "london       2494\n",
            "madrid       1821\n",
            "sydney       1493\n",
            "toronto      1261\n",
            "melbourne    1141\n",
            "paris         974\n",
            "chicago       909\n",
            "berlin        831\n",
            "seattle       758\n",
            "portland      744\n",
            "new york      714\n",
            "ottawa        704\n",
            "vancouver     687\n",
            "hamburg       626\n",
            "Name: city, dtype: int64\n",
            "\n",
            " usa               75672\n",
            " spain             12442\n",
            " united kingdom    12249\n",
            " canada            11262\n",
            " germany           10520\n",
            " australia          8740\n",
            " italy              5311\n",
            " france             2973\n",
            " portugal           2620\n",
            "                    1973\n",
            " new zealand        1968\n",
            " brazil             1496\n",
            " netherlands        1445\n",
            " switzerland        1161\n",
            " china              1030\n",
            "Name: country, dtype: int64\n"
          ],
          "name": "stdout"
        }
      ]
    },
    {
      "cell_type": "code",
      "metadata": {
        "id": "onlrDXHQwiJm",
        "colab_type": "code",
        "colab": {}
      },
      "source": [
        "users.dropna(inplace=True) # Уберём NaN"
      ],
      "execution_count": 0,
      "outputs": []
    },
    {
      "cell_type": "markdown",
      "metadata": {
        "id": "vDgSysR8x1pO",
        "colab_type": "text"
      },
      "source": [
        "#### 1.1 Соединение данных в большой датафрейм"
      ]
    },
    {
      "cell_type": "markdown",
      "metadata": {
        "id": "fyXyk4x0NCJ5",
        "colab_type": "text"
      },
      "source": [
        "Для начала книги: попробуем соединить их по общему - книги и им соответствующие рейтинги."
      ]
    },
    {
      "cell_type": "code",
      "metadata": {
        "id": "6UFoEjPfNVhD",
        "colab_type": "code",
        "outputId": "67037adf-9a5e-4cbb-ff09-0012e8d97d3e",
        "colab": {
          "base_uri": "https://localhost:8080/",
          "height": 204
        }
      },
      "source": [
        "books.head()"
      ],
      "execution_count": 57,
      "outputs": [
        {
          "output_type": "execute_result",
          "data": {
            "text/html": [
              "<div>\n",
              "<style scoped>\n",
              "    .dataframe tbody tr th:only-of-type {\n",
              "        vertical-align: middle;\n",
              "    }\n",
              "\n",
              "    .dataframe tbody tr th {\n",
              "        vertical-align: top;\n",
              "    }\n",
              "\n",
              "    .dataframe thead th {\n",
              "        text-align: right;\n",
              "    }\n",
              "</style>\n",
              "<table border=\"1\" class=\"dataframe\">\n",
              "  <thead>\n",
              "    <tr style=\"text-align: right;\">\n",
              "      <th></th>\n",
              "      <th>ISBN</th>\n",
              "      <th>Book-Title</th>\n",
              "      <th>Book-Author</th>\n",
              "      <th>Year-Of-Publication</th>\n",
              "      <th>Publisher</th>\n",
              "    </tr>\n",
              "  </thead>\n",
              "  <tbody>\n",
              "    <tr>\n",
              "      <th>0</th>\n",
              "      <td>0195153448</td>\n",
              "      <td>Classical Mythology</td>\n",
              "      <td>Mark P. O. Morford</td>\n",
              "      <td>2002.0</td>\n",
              "      <td>Oxford University Press</td>\n",
              "    </tr>\n",
              "    <tr>\n",
              "      <th>1</th>\n",
              "      <td>0002005018</td>\n",
              "      <td>Clara Callan</td>\n",
              "      <td>Richard Bruce Wright</td>\n",
              "      <td>2001.0</td>\n",
              "      <td>HarperFlamingo Canada</td>\n",
              "    </tr>\n",
              "    <tr>\n",
              "      <th>2</th>\n",
              "      <td>0060973129</td>\n",
              "      <td>Decision in Normandy</td>\n",
              "      <td>Carlo D'Este</td>\n",
              "      <td>1991.0</td>\n",
              "      <td>HarperPerennial</td>\n",
              "    </tr>\n",
              "    <tr>\n",
              "      <th>3</th>\n",
              "      <td>0374157065</td>\n",
              "      <td>Flu: The Story of the Great Influenza Pandemic...</td>\n",
              "      <td>Gina Bari Kolata</td>\n",
              "      <td>1999.0</td>\n",
              "      <td>Farrar Straus Giroux</td>\n",
              "    </tr>\n",
              "    <tr>\n",
              "      <th>4</th>\n",
              "      <td>0393045218</td>\n",
              "      <td>The Mummies of Urumchi</td>\n",
              "      <td>E. J. W. Barber</td>\n",
              "      <td>1999.0</td>\n",
              "      <td>W. W. Norton &amp;amp; Company</td>\n",
              "    </tr>\n",
              "  </tbody>\n",
              "</table>\n",
              "</div>"
            ],
            "text/plain": [
              "         ISBN  ...                   Publisher\n",
              "0  0195153448  ...     Oxford University Press\n",
              "1  0002005018  ...       HarperFlamingo Canada\n",
              "2  0060973129  ...             HarperPerennial\n",
              "3  0374157065  ...        Farrar Straus Giroux\n",
              "4  0393045218  ...  W. W. Norton &amp; Company\n",
              "\n",
              "[5 rows x 5 columns]"
            ]
          },
          "metadata": {
            "tags": []
          },
          "execution_count": 57
        }
      ]
    },
    {
      "cell_type": "code",
      "metadata": {
        "id": "UUS8h_KcyGBF",
        "colab_type": "code",
        "outputId": "de734fa4-eb4a-4acb-e382-e8e22484f547",
        "colab": {
          "base_uri": "https://localhost:8080/",
          "height": 204
        }
      },
      "source": [
        "ratings.head()"
      ],
      "execution_count": 58,
      "outputs": [
        {
          "output_type": "execute_result",
          "data": {
            "text/html": [
              "<div>\n",
              "<style scoped>\n",
              "    .dataframe tbody tr th:only-of-type {\n",
              "        vertical-align: middle;\n",
              "    }\n",
              "\n",
              "    .dataframe tbody tr th {\n",
              "        vertical-align: top;\n",
              "    }\n",
              "\n",
              "    .dataframe thead th {\n",
              "        text-align: right;\n",
              "    }\n",
              "</style>\n",
              "<table border=\"1\" class=\"dataframe\">\n",
              "  <thead>\n",
              "    <tr style=\"text-align: right;\">\n",
              "      <th></th>\n",
              "      <th>User-ID</th>\n",
              "      <th>ISBN</th>\n",
              "      <th>Book-Rating</th>\n",
              "    </tr>\n",
              "  </thead>\n",
              "  <tbody>\n",
              "    <tr>\n",
              "      <th>1</th>\n",
              "      <td>276726</td>\n",
              "      <td>0155061224</td>\n",
              "      <td>5</td>\n",
              "    </tr>\n",
              "    <tr>\n",
              "      <th>3</th>\n",
              "      <td>276729</td>\n",
              "      <td>052165615X</td>\n",
              "      <td>3</td>\n",
              "    </tr>\n",
              "    <tr>\n",
              "      <th>4</th>\n",
              "      <td>276729</td>\n",
              "      <td>0521795028</td>\n",
              "      <td>6</td>\n",
              "    </tr>\n",
              "    <tr>\n",
              "      <th>6</th>\n",
              "      <td>276736</td>\n",
              "      <td>3257224281</td>\n",
              "      <td>8</td>\n",
              "    </tr>\n",
              "    <tr>\n",
              "      <th>7</th>\n",
              "      <td>276737</td>\n",
              "      <td>0600570967</td>\n",
              "      <td>6</td>\n",
              "    </tr>\n",
              "  </tbody>\n",
              "</table>\n",
              "</div>"
            ],
            "text/plain": [
              "   User-ID        ISBN  Book-Rating\n",
              "1   276726  0155061224            5\n",
              "3   276729  052165615X            3\n",
              "4   276729  0521795028            6\n",
              "6   276736  3257224281            8\n",
              "7   276737  0600570967            6"
            ]
          },
          "metadata": {
            "tags": []
          },
          "execution_count": 58
        }
      ]
    },
    {
      "cell_type": "markdown",
      "metadata": {
        "id": "BqRf5gbGNagP",
        "colab_type": "text"
      },
      "source": [
        "Очевидно по уникальному идентификатору - ISBN."
      ]
    },
    {
      "cell_type": "code",
      "metadata": {
        "id": "2YXidZ2UNZ_C",
        "colab_type": "code",
        "outputId": "ef9c34d0-31f2-4ccd-df61-2f3ba8318407",
        "colab": {
          "base_uri": "https://localhost:8080/",
          "height": 51
        }
      },
      "source": [
        "print(len(books))\n",
        "\n",
        "print(len(ratings))\n",
        "\n",
        "# Разве что они разные по объёму, но это из-за юзеров, которые могут выставлять оценки нескольким книгам."
      ],
      "execution_count": 59,
      "outputs": [
        {
          "output_type": "stream",
          "text": [
            "266636\n",
            "433671\n"
          ],
          "name": "stdout"
        }
      ]
    },
    {
      "cell_type": "code",
      "metadata": {
        "id": "Yy3isYpKOAaA",
        "colab_type": "code",
        "colab": {}
      },
      "source": [
        "# Сольём их в один\n",
        "books_ratings = books.join(ratings.set_index('ISBN'), on='ISBN')"
      ],
      "execution_count": 0,
      "outputs": []
    },
    {
      "cell_type": "code",
      "metadata": {
        "id": "0sx2l4CTOV-o",
        "colab_type": "code",
        "outputId": "3f866dec-0b6c-4319-b32d-d165f885bc5f",
        "colab": {
          "base_uri": "https://localhost:8080/",
          "height": 221
        }
      },
      "source": [
        "print(len(books_ratings))\n",
        "\n",
        "books_ratings.head()"
      ],
      "execution_count": 61,
      "outputs": [
        {
          "output_type": "stream",
          "text": [
            "497391\n"
          ],
          "name": "stdout"
        },
        {
          "output_type": "execute_result",
          "data": {
            "text/html": [
              "<div>\n",
              "<style scoped>\n",
              "    .dataframe tbody tr th:only-of-type {\n",
              "        vertical-align: middle;\n",
              "    }\n",
              "\n",
              "    .dataframe tbody tr th {\n",
              "        vertical-align: top;\n",
              "    }\n",
              "\n",
              "    .dataframe thead th {\n",
              "        text-align: right;\n",
              "    }\n",
              "</style>\n",
              "<table border=\"1\" class=\"dataframe\">\n",
              "  <thead>\n",
              "    <tr style=\"text-align: right;\">\n",
              "      <th></th>\n",
              "      <th>ISBN</th>\n",
              "      <th>Book-Title</th>\n",
              "      <th>Book-Author</th>\n",
              "      <th>Year-Of-Publication</th>\n",
              "      <th>Publisher</th>\n",
              "      <th>User-ID</th>\n",
              "      <th>Book-Rating</th>\n",
              "    </tr>\n",
              "  </thead>\n",
              "  <tbody>\n",
              "    <tr>\n",
              "      <th>0</th>\n",
              "      <td>0195153448</td>\n",
              "      <td>Classical Mythology</td>\n",
              "      <td>Mark P. O. Morford</td>\n",
              "      <td>2002.0</td>\n",
              "      <td>Oxford University Press</td>\n",
              "      <td>NaN</td>\n",
              "      <td>NaN</td>\n",
              "    </tr>\n",
              "    <tr>\n",
              "      <th>1</th>\n",
              "      <td>0002005018</td>\n",
              "      <td>Clara Callan</td>\n",
              "      <td>Richard Bruce Wright</td>\n",
              "      <td>2001.0</td>\n",
              "      <td>HarperFlamingo Canada</td>\n",
              "      <td>8.0</td>\n",
              "      <td>5.0</td>\n",
              "    </tr>\n",
              "    <tr>\n",
              "      <th>1</th>\n",
              "      <td>0002005018</td>\n",
              "      <td>Clara Callan</td>\n",
              "      <td>Richard Bruce Wright</td>\n",
              "      <td>2001.0</td>\n",
              "      <td>HarperFlamingo Canada</td>\n",
              "      <td>11676.0</td>\n",
              "      <td>8.0</td>\n",
              "    </tr>\n",
              "    <tr>\n",
              "      <th>1</th>\n",
              "      <td>0002005018</td>\n",
              "      <td>Clara Callan</td>\n",
              "      <td>Richard Bruce Wright</td>\n",
              "      <td>2001.0</td>\n",
              "      <td>HarperFlamingo Canada</td>\n",
              "      <td>67544.0</td>\n",
              "      <td>8.0</td>\n",
              "    </tr>\n",
              "    <tr>\n",
              "      <th>1</th>\n",
              "      <td>0002005018</td>\n",
              "      <td>Clara Callan</td>\n",
              "      <td>Richard Bruce Wright</td>\n",
              "      <td>2001.0</td>\n",
              "      <td>HarperFlamingo Canada</td>\n",
              "      <td>116866.0</td>\n",
              "      <td>9.0</td>\n",
              "    </tr>\n",
              "  </tbody>\n",
              "</table>\n",
              "</div>"
            ],
            "text/plain": [
              "         ISBN           Book-Title  ...   User-ID  Book-Rating\n",
              "0  0195153448  Classical Mythology  ...       NaN          NaN\n",
              "1  0002005018         Clara Callan  ...       8.0          5.0\n",
              "1  0002005018         Clara Callan  ...   11676.0          8.0\n",
              "1  0002005018         Clara Callan  ...   67544.0          8.0\n",
              "1  0002005018         Clara Callan  ...  116866.0          9.0\n",
              "\n",
              "[5 rows x 7 columns]"
            ]
          },
          "metadata": {
            "tags": []
          },
          "execution_count": 61
        }
      ]
    },
    {
      "cell_type": "code",
      "metadata": {
        "id": "DfPCY5njObT4",
        "colab_type": "code",
        "outputId": "3abc2bef-d2ac-4eff-a136-2140e159529c",
        "colab": {
          "base_uri": "https://localhost:8080/",
          "height": 68
        }
      },
      "source": [
        "# Посмотрим на данные, которые могли из-за слияния неправильно отобразиться.\n",
        "\n",
        "print(books_ratings['Book-Title'].isnull().sum())\n",
        "print(books_ratings['Book-Author'].isnull().sum())\n",
        "print(books_ratings['User-ID'].isnull().sum())\n",
        "\n",
        "# Видно, что довольно много не найденных юзеров для книг - почти 25%."
      ],
      "execution_count": 62,
      "outputs": [
        {
          "output_type": "stream",
          "text": [
            "0\n",
            "0\n",
            "119586\n"
          ],
          "name": "stdout"
        }
      ]
    },
    {
      "cell_type": "code",
      "metadata": {
        "id": "cjrFrEa0PVg4",
        "colab_type": "code",
        "outputId": "e374806d-845f-4e65-c8f7-d4f8e0373098",
        "colab": {
          "base_uri": "https://localhost:8080/",
          "height": 255
        }
      },
      "source": [
        "books_ratings.info() # И, соответственно, оценок тоже нет."
      ],
      "execution_count": 63,
      "outputs": [
        {
          "output_type": "stream",
          "text": [
            "<class 'pandas.core.frame.DataFrame'>\n",
            "Int64Index: 497391 entries, 0 to 271359\n",
            "Data columns (total 7 columns):\n",
            " #   Column               Non-Null Count   Dtype  \n",
            "---  ------               --------------   -----  \n",
            " 0   ISBN                 497391 non-null  object \n",
            " 1   Book-Title           497391 non-null  object \n",
            " 2   Book-Author          497391 non-null  object \n",
            " 3   Year-Of-Publication  497391 non-null  float64\n",
            " 4   Publisher            497391 non-null  object \n",
            " 5   User-ID              377805 non-null  float64\n",
            " 6   Book-Rating          377805 non-null  float64\n",
            "dtypes: float64(3), object(4)\n",
            "memory usage: 30.4+ MB\n"
          ],
          "name": "stdout"
        }
      ]
    },
    {
      "cell_type": "code",
      "metadata": {
        "id": "OjwYOl7gS-YG",
        "colab_type": "code",
        "colab": {}
      },
      "source": [
        "# От них необходимо избавиться, т.к. нет смысла в строках, которые не содержат ни юзера, ни оценки.\n",
        "\n",
        "books_ratings.dropna(inplace=True)"
      ],
      "execution_count": 0,
      "outputs": []
    },
    {
      "cell_type": "code",
      "metadata": {
        "id": "60Ae9FhfTOeL",
        "colab_type": "code",
        "outputId": "f0b54f70-2080-49a2-aa06-b91389dfd20d",
        "colab": {
          "base_uri": "https://localhost:8080/",
          "height": 255
        }
      },
      "source": [
        "books_ratings.info() # Теперь всё в одном размере."
      ],
      "execution_count": 65,
      "outputs": [
        {
          "output_type": "stream",
          "text": [
            "<class 'pandas.core.frame.DataFrame'>\n",
            "Int64Index: 377805 entries, 1 to 271356\n",
            "Data columns (total 7 columns):\n",
            " #   Column               Non-Null Count   Dtype  \n",
            "---  ------               --------------   -----  \n",
            " 0   ISBN                 377805 non-null  object \n",
            " 1   Book-Title           377805 non-null  object \n",
            " 2   Book-Author          377805 non-null  object \n",
            " 3   Year-Of-Publication  377805 non-null  float64\n",
            " 4   Publisher            377805 non-null  object \n",
            " 5   User-ID              377805 non-null  float64\n",
            " 6   Book-Rating          377805 non-null  float64\n",
            "dtypes: float64(3), object(4)\n",
            "memory usage: 23.1+ MB\n"
          ],
          "name": "stdout"
        }
      ]
    },
    {
      "cell_type": "code",
      "metadata": {
        "id": "8Nmgpc7uPgRV",
        "colab_type": "code",
        "outputId": "931810c9-5a77-49e9-a7ea-bb5939ada6f2",
        "colab": {
          "base_uri": "https://localhost:8080/",
          "height": 170
        }
      },
      "source": [
        "# Посмотрим на средний рейтинг по книгам - 7 с самыми высокими.\n",
        "\n",
        "books_ = books_ratings['Book-Title'].value_counts()\n",
        "\n",
        "books_ = books_[books_ > 40].index # Возьмём только тех, у которых более 40 оценок.\n",
        "\n",
        "meanRating = books_ratings[books_ratings['Book-Title'].isin(books_)].groupby('Book-Title')['Book-Rating'].mean()\n",
        "meanRating.sort_values(ascending=False)[:7] # Посмотрим на первые семь.\n",
        "\n",
        "# Отличные и логичные книги - Толкин, Роулинг, Экзюпери."
      ],
      "execution_count": 66,
      "outputs": [
        {
          "output_type": "execute_result",
          "data": {
            "text/plain": [
              "Book-Title\n",
              "The Two Towers (The Lord of the Rings, Part 2)            9.330882\n",
              "The Return of the King (The Lord of the Rings, Part 3)    9.213592\n",
              "Harry Potter and the Goblet of Fire (Book 4)              9.125506\n",
              "The Hobbit                                                9.120000\n",
              "The Little Prince                                         9.111111\n",
              "Charlotte's Web (Trophy Newbery)                          9.073529\n",
              "Harry Potter and the Sorcerer's Stone (Book 1)            9.062500\n",
              "Name: Book-Rating, dtype: float64"
            ]
          },
          "metadata": {
            "tags": []
          },
          "execution_count": 66
        }
      ]
    },
    {
      "cell_type": "code",
      "metadata": {
        "id": "PG8Fm3jARx7E",
        "colab_type": "code",
        "outputId": "1247fd19-2753-4d29-8d9a-ba2121cf0447",
        "colab": {
          "base_uri": "https://localhost:8080/",
          "height": 170
        }
      },
      "source": [
        "# Посмотрим на средний рейтинг по книгам - 7 с самыми низкими.\n",
        "\n",
        "meanRating.sort_values()[:7] # Посмотрим на первые семь.\n",
        "\n",
        "# ¯\\_(ツ)_/¯"
      ],
      "execution_count": 67,
      "outputs": [
        {
          "output_type": "execute_result",
          "data": {
            "text/plain": [
              "Book-Title\n",
              "Wild Animus           4.390706\n",
              "Four Blondes          5.393939\n",
              "Isle of Dogs          5.433962\n",
              "4 Blondes             5.653846\n",
              "Violin                6.106383\n",
              "The Little Friend     6.272727\n",
              "The Sky Is Falling    6.341463\n",
              "Name: Book-Rating, dtype: float64"
            ]
          },
          "metadata": {
            "tags": []
          },
          "execution_count": 67
        }
      ]
    },
    {
      "cell_type": "markdown",
      "metadata": {
        "id": "kguPtxa4Te2A",
        "colab_type": "text"
      },
      "source": [
        "Соединим получившийся датафрейм с последним - юзерами.\n",
        "\n",
        "Тут тоже всё довольно очевидно - по user id."
      ]
    },
    {
      "cell_type": "code",
      "metadata": {
        "id": "X0eLuncmTqGK",
        "colab_type": "code",
        "outputId": "baf4d9df-f72e-4d34-e51d-e12e05fef0bc",
        "colab": {
          "base_uri": "https://localhost:8080/",
          "height": 51
        }
      },
      "source": [
        "print(len(books_ratings))\n",
        "\n",
        "print(len(users))\n",
        "\n",
        "# Как и в прошлый раз - неодинаковые размеры - из-за юзеров с несколькими выставленными оценками."
      ],
      "execution_count": 68,
      "outputs": [
        {
          "output_type": "stream",
          "text": [
            "377805\n",
            "166659\n"
          ],
          "name": "stdout"
        }
      ]
    },
    {
      "cell_type": "code",
      "metadata": {
        "id": "loe3mcOKSWKK",
        "colab_type": "code",
        "colab": {}
      },
      "source": [
        "data = books_ratings.join(users.set_index('User-ID'), on='User-ID')"
      ],
      "execution_count": 0,
      "outputs": []
    },
    {
      "cell_type": "code",
      "metadata": {
        "id": "KZE5K6WmUErB",
        "colab_type": "code",
        "outputId": "60bded17-40ab-4df3-b376-5785288fda9d",
        "colab": {
          "base_uri": "https://localhost:8080/",
          "height": 204
        }
      },
      "source": [
        "data.head()"
      ],
      "execution_count": 70,
      "outputs": [
        {
          "output_type": "execute_result",
          "data": {
            "text/html": [
              "<div>\n",
              "<style scoped>\n",
              "    .dataframe tbody tr th:only-of-type {\n",
              "        vertical-align: middle;\n",
              "    }\n",
              "\n",
              "    .dataframe tbody tr th {\n",
              "        vertical-align: top;\n",
              "    }\n",
              "\n",
              "    .dataframe thead th {\n",
              "        text-align: right;\n",
              "    }\n",
              "</style>\n",
              "<table border=\"1\" class=\"dataframe\">\n",
              "  <thead>\n",
              "    <tr style=\"text-align: right;\">\n",
              "      <th></th>\n",
              "      <th>ISBN</th>\n",
              "      <th>Book-Title</th>\n",
              "      <th>Book-Author</th>\n",
              "      <th>Year-Of-Publication</th>\n",
              "      <th>Publisher</th>\n",
              "      <th>User-ID</th>\n",
              "      <th>Book-Rating</th>\n",
              "      <th>Age</th>\n",
              "      <th>city</th>\n",
              "      <th>county</th>\n",
              "      <th>country</th>\n",
              "    </tr>\n",
              "  </thead>\n",
              "  <tbody>\n",
              "    <tr>\n",
              "      <th>1</th>\n",
              "      <td>0002005018</td>\n",
              "      <td>Clara Callan</td>\n",
              "      <td>Richard Bruce Wright</td>\n",
              "      <td>2001.0</td>\n",
              "      <td>HarperFlamingo Canada</td>\n",
              "      <td>8.0</td>\n",
              "      <td>5.0</td>\n",
              "      <td>NaN</td>\n",
              "      <td>NaN</td>\n",
              "      <td>NaN</td>\n",
              "      <td>NaN</td>\n",
              "    </tr>\n",
              "    <tr>\n",
              "      <th>1</th>\n",
              "      <td>0002005018</td>\n",
              "      <td>Clara Callan</td>\n",
              "      <td>Richard Bruce Wright</td>\n",
              "      <td>2001.0</td>\n",
              "      <td>HarperFlamingo Canada</td>\n",
              "      <td>11676.0</td>\n",
              "      <td>8.0</td>\n",
              "      <td>NaN</td>\n",
              "      <td>NaN</td>\n",
              "      <td>NaN</td>\n",
              "      <td>NaN</td>\n",
              "    </tr>\n",
              "    <tr>\n",
              "      <th>1</th>\n",
              "      <td>0002005018</td>\n",
              "      <td>Clara Callan</td>\n",
              "      <td>Richard Bruce Wright</td>\n",
              "      <td>2001.0</td>\n",
              "      <td>HarperFlamingo Canada</td>\n",
              "      <td>67544.0</td>\n",
              "      <td>8.0</td>\n",
              "      <td>30.0</td>\n",
              "      <td>toronto</td>\n",
              "      <td>ontario</td>\n",
              "      <td>canada</td>\n",
              "    </tr>\n",
              "    <tr>\n",
              "      <th>1</th>\n",
              "      <td>0002005018</td>\n",
              "      <td>Clara Callan</td>\n",
              "      <td>Richard Bruce Wright</td>\n",
              "      <td>2001.0</td>\n",
              "      <td>HarperFlamingo Canada</td>\n",
              "      <td>116866.0</td>\n",
              "      <td>9.0</td>\n",
              "      <td>NaN</td>\n",
              "      <td>NaN</td>\n",
              "      <td>NaN</td>\n",
              "      <td>NaN</td>\n",
              "    </tr>\n",
              "    <tr>\n",
              "      <th>1</th>\n",
              "      <td>0002005018</td>\n",
              "      <td>Clara Callan</td>\n",
              "      <td>Richard Bruce Wright</td>\n",
              "      <td>2001.0</td>\n",
              "      <td>HarperFlamingo Canada</td>\n",
              "      <td>123629.0</td>\n",
              "      <td>9.0</td>\n",
              "      <td>NaN</td>\n",
              "      <td>NaN</td>\n",
              "      <td>NaN</td>\n",
              "      <td>NaN</td>\n",
              "    </tr>\n",
              "  </tbody>\n",
              "</table>\n",
              "</div>"
            ],
            "text/plain": [
              "         ISBN    Book-Title           Book-Author  ...     city    county  country\n",
              "1  0002005018  Clara Callan  Richard Bruce Wright  ...      NaN       NaN      NaN\n",
              "1  0002005018  Clara Callan  Richard Bruce Wright  ...      NaN       NaN      NaN\n",
              "1  0002005018  Clara Callan  Richard Bruce Wright  ...  toronto   ontario   canada\n",
              "1  0002005018  Clara Callan  Richard Bruce Wright  ...      NaN       NaN      NaN\n",
              "1  0002005018  Clara Callan  Richard Bruce Wright  ...      NaN       NaN      NaN\n",
              "\n",
              "[5 rows x 11 columns]"
            ]
          },
          "metadata": {
            "tags": []
          },
          "execution_count": 70
        }
      ]
    },
    {
      "cell_type": "code",
      "metadata": {
        "id": "ar4tusgEUSk_",
        "colab_type": "code",
        "outputId": "ac37f461-8ca5-450d-97cc-d834aa09efdf",
        "colab": {
          "base_uri": "https://localhost:8080/",
          "height": 323
        }
      },
      "source": [
        "data.info() # Есть немного (на самом деле не немного) пропущенных значений в столбцах с возрастом и локацией.\n",
        "\n",
        "# Нам не так сильно важны эти данные - главное, что есть юзеры и рейтинги, которые они выставили."
      ],
      "execution_count": 71,
      "outputs": [
        {
          "output_type": "stream",
          "text": [
            "<class 'pandas.core.frame.DataFrame'>\n",
            "Int64Index: 377805 entries, 1 to 271356\n",
            "Data columns (total 11 columns):\n",
            " #   Column               Non-Null Count   Dtype  \n",
            "---  ------               --------------   -----  \n",
            " 0   ISBN                 377805 non-null  object \n",
            " 1   Book-Title           377805 non-null  object \n",
            " 2   Book-Author          377805 non-null  object \n",
            " 3   Year-Of-Publication  377805 non-null  float64\n",
            " 4   Publisher            377805 non-null  object \n",
            " 5   User-ID              377805 non-null  float64\n",
            " 6   Book-Rating          377805 non-null  float64\n",
            " 7   Age                  263008 non-null  float64\n",
            " 8   city                 263008 non-null  object \n",
            " 9   county               263008 non-null  object \n",
            " 10  country              263008 non-null  object \n",
            "dtypes: float64(4), object(7)\n",
            "memory usage: 34.6+ MB\n"
          ],
          "name": "stdout"
        }
      ]
    },
    {
      "cell_type": "markdown",
      "metadata": {
        "id": "jxVlXagNdE57",
        "colab_type": "text"
      },
      "source": [
        "### Задание №3 : Разделить данные на тренировочные и валидационные (1/2 балла)"
      ]
    },
    {
      "cell_type": "code",
      "metadata": {
        "id": "2-AekyQrVLn9",
        "colab_type": "code",
        "colab": {}
      },
      "source": [
        ""
      ],
      "execution_count": 0,
      "outputs": []
    },
    {
      "cell_type": "markdown",
      "metadata": {
        "id": "LX78TCHFdE58",
        "colab_type": "text"
      },
      "source": [
        "### Задание №4 : Решить задачу на основе предложения всем юзерам наиболее популярных item (1 балл)"
      ]
    },
    {
      "cell_type": "code",
      "metadata": {
        "id": "uV80kZ8b778N",
        "colab_type": "code",
        "colab": {}
      },
      "source": [
        ""
      ],
      "execution_count": 0,
      "outputs": []
    },
    {
      "cell_type": "markdown",
      "metadata": {
        "id": "W8jmqhiwdE59",
        "colab_type": "text"
      },
      "source": [
        "### Задание №5 : Решить задачу на основе коллоборативной фильтрации (2 балла)\n",
        "\n",
        "* Реализовать один из методов коллоборативной фильтрации SVD, SVD++, ALS, ALS with implicit feedback"
      ]
    },
    {
      "cell_type": "code",
      "metadata": {
        "id": "KYHNEUHIelOO",
        "colab_type": "code",
        "outputId": "971a9bca-b4db-4609-b72e-e1b0a634ca0b",
        "colab": {
          "base_uri": "https://localhost:8080/",
          "height": 204
        }
      },
      "source": [
        "data.head()"
      ],
      "execution_count": 72,
      "outputs": [
        {
          "output_type": "execute_result",
          "data": {
            "text/html": [
              "<div>\n",
              "<style scoped>\n",
              "    .dataframe tbody tr th:only-of-type {\n",
              "        vertical-align: middle;\n",
              "    }\n",
              "\n",
              "    .dataframe tbody tr th {\n",
              "        vertical-align: top;\n",
              "    }\n",
              "\n",
              "    .dataframe thead th {\n",
              "        text-align: right;\n",
              "    }\n",
              "</style>\n",
              "<table border=\"1\" class=\"dataframe\">\n",
              "  <thead>\n",
              "    <tr style=\"text-align: right;\">\n",
              "      <th></th>\n",
              "      <th>ISBN</th>\n",
              "      <th>Book-Title</th>\n",
              "      <th>Book-Author</th>\n",
              "      <th>Year-Of-Publication</th>\n",
              "      <th>Publisher</th>\n",
              "      <th>User-ID</th>\n",
              "      <th>Book-Rating</th>\n",
              "      <th>Age</th>\n",
              "      <th>city</th>\n",
              "      <th>county</th>\n",
              "      <th>country</th>\n",
              "    </tr>\n",
              "  </thead>\n",
              "  <tbody>\n",
              "    <tr>\n",
              "      <th>1</th>\n",
              "      <td>0002005018</td>\n",
              "      <td>Clara Callan</td>\n",
              "      <td>Richard Bruce Wright</td>\n",
              "      <td>2001.0</td>\n",
              "      <td>HarperFlamingo Canada</td>\n",
              "      <td>8.0</td>\n",
              "      <td>5.0</td>\n",
              "      <td>NaN</td>\n",
              "      <td>NaN</td>\n",
              "      <td>NaN</td>\n",
              "      <td>NaN</td>\n",
              "    </tr>\n",
              "    <tr>\n",
              "      <th>1</th>\n",
              "      <td>0002005018</td>\n",
              "      <td>Clara Callan</td>\n",
              "      <td>Richard Bruce Wright</td>\n",
              "      <td>2001.0</td>\n",
              "      <td>HarperFlamingo Canada</td>\n",
              "      <td>11676.0</td>\n",
              "      <td>8.0</td>\n",
              "      <td>NaN</td>\n",
              "      <td>NaN</td>\n",
              "      <td>NaN</td>\n",
              "      <td>NaN</td>\n",
              "    </tr>\n",
              "    <tr>\n",
              "      <th>1</th>\n",
              "      <td>0002005018</td>\n",
              "      <td>Clara Callan</td>\n",
              "      <td>Richard Bruce Wright</td>\n",
              "      <td>2001.0</td>\n",
              "      <td>HarperFlamingo Canada</td>\n",
              "      <td>67544.0</td>\n",
              "      <td>8.0</td>\n",
              "      <td>30.0</td>\n",
              "      <td>toronto</td>\n",
              "      <td>ontario</td>\n",
              "      <td>canada</td>\n",
              "    </tr>\n",
              "    <tr>\n",
              "      <th>1</th>\n",
              "      <td>0002005018</td>\n",
              "      <td>Clara Callan</td>\n",
              "      <td>Richard Bruce Wright</td>\n",
              "      <td>2001.0</td>\n",
              "      <td>HarperFlamingo Canada</td>\n",
              "      <td>116866.0</td>\n",
              "      <td>9.0</td>\n",
              "      <td>NaN</td>\n",
              "      <td>NaN</td>\n",
              "      <td>NaN</td>\n",
              "      <td>NaN</td>\n",
              "    </tr>\n",
              "    <tr>\n",
              "      <th>1</th>\n",
              "      <td>0002005018</td>\n",
              "      <td>Clara Callan</td>\n",
              "      <td>Richard Bruce Wright</td>\n",
              "      <td>2001.0</td>\n",
              "      <td>HarperFlamingo Canada</td>\n",
              "      <td>123629.0</td>\n",
              "      <td>9.0</td>\n",
              "      <td>NaN</td>\n",
              "      <td>NaN</td>\n",
              "      <td>NaN</td>\n",
              "      <td>NaN</td>\n",
              "    </tr>\n",
              "  </tbody>\n",
              "</table>\n",
              "</div>"
            ],
            "text/plain": [
              "         ISBN    Book-Title           Book-Author  ...     city    county  country\n",
              "1  0002005018  Clara Callan  Richard Bruce Wright  ...      NaN       NaN      NaN\n",
              "1  0002005018  Clara Callan  Richard Bruce Wright  ...      NaN       NaN      NaN\n",
              "1  0002005018  Clara Callan  Richard Bruce Wright  ...  toronto   ontario   canada\n",
              "1  0002005018  Clara Callan  Richard Bruce Wright  ...      NaN       NaN      NaN\n",
              "1  0002005018  Clara Callan  Richard Bruce Wright  ...      NaN       NaN      NaN\n",
              "\n",
              "[5 rows x 11 columns]"
            ]
          },
          "metadata": {
            "tags": []
          },
          "execution_count": 72
        }
      ]
    },
    {
      "cell_type": "code",
      "metadata": {
        "id": "bMOZM8fX78y_",
        "colab_type": "code",
        "outputId": "174eef22-ba4b-4028-cd58-66fb10961335",
        "colab": {
          "base_uri": "https://localhost:8080/",
          "height": 204
        }
      },
      "source": [
        "userBookMatrix = data[['User-ID', 'ISBN', 'Book-Rating']]\n",
        "userBookMatrix.head()"
      ],
      "execution_count": 73,
      "outputs": [
        {
          "output_type": "execute_result",
          "data": {
            "text/html": [
              "<div>\n",
              "<style scoped>\n",
              "    .dataframe tbody tr th:only-of-type {\n",
              "        vertical-align: middle;\n",
              "    }\n",
              "\n",
              "    .dataframe tbody tr th {\n",
              "        vertical-align: top;\n",
              "    }\n",
              "\n",
              "    .dataframe thead th {\n",
              "        text-align: right;\n",
              "    }\n",
              "</style>\n",
              "<table border=\"1\" class=\"dataframe\">\n",
              "  <thead>\n",
              "    <tr style=\"text-align: right;\">\n",
              "      <th></th>\n",
              "      <th>User-ID</th>\n",
              "      <th>ISBN</th>\n",
              "      <th>Book-Rating</th>\n",
              "    </tr>\n",
              "  </thead>\n",
              "  <tbody>\n",
              "    <tr>\n",
              "      <th>1</th>\n",
              "      <td>8.0</td>\n",
              "      <td>0002005018</td>\n",
              "      <td>5.0</td>\n",
              "    </tr>\n",
              "    <tr>\n",
              "      <th>1</th>\n",
              "      <td>11676.0</td>\n",
              "      <td>0002005018</td>\n",
              "      <td>8.0</td>\n",
              "    </tr>\n",
              "    <tr>\n",
              "      <th>1</th>\n",
              "      <td>67544.0</td>\n",
              "      <td>0002005018</td>\n",
              "      <td>8.0</td>\n",
              "    </tr>\n",
              "    <tr>\n",
              "      <th>1</th>\n",
              "      <td>116866.0</td>\n",
              "      <td>0002005018</td>\n",
              "      <td>9.0</td>\n",
              "    </tr>\n",
              "    <tr>\n",
              "      <th>1</th>\n",
              "      <td>123629.0</td>\n",
              "      <td>0002005018</td>\n",
              "      <td>9.0</td>\n",
              "    </tr>\n",
              "  </tbody>\n",
              "</table>\n",
              "</div>"
            ],
            "text/plain": [
              "    User-ID        ISBN  Book-Rating\n",
              "1       8.0  0002005018          5.0\n",
              "1   11676.0  0002005018          8.0\n",
              "1   67544.0  0002005018          8.0\n",
              "1  116866.0  0002005018          9.0\n",
              "1  123629.0  0002005018          9.0"
            ]
          },
          "metadata": {
            "tags": []
          },
          "execution_count": 73
        }
      ]
    },
    {
      "cell_type": "code",
      "metadata": {
        "id": "Q8I47ebjBZ4V",
        "colab_type": "code",
        "colab": {}
      },
      "source": [
        "# Используем другие названия, т.к. surprise.Dataset не дружит с дефисами\n",
        "\n",
        "userBookMatrix['rating'] = userBookMatrix['Book-Rating']\n",
        "userBookMatrix['user'] = userBookMatrix['User-ID']\n",
        "userBookMatrix['item'] = userBookMatrix['ISBN']"
      ],
      "execution_count": 0,
      "outputs": []
    },
    {
      "cell_type": "code",
      "metadata": {
        "id": "Zvq3-KMUCM3G",
        "colab_type": "code",
        "colab": {}
      },
      "source": [
        ""
      ],
      "execution_count": 0,
      "outputs": []
    },
    {
      "cell_type": "code",
      "metadata": {
        "id": "v8VJ6lcSewJP",
        "colab_type": "code",
        "colab": {}
      },
      "source": [
        "from sklearn.model_selection import train_test_split, cross_validate"
      ],
      "execution_count": 0,
      "outputs": []
    },
    {
      "cell_type": "code",
      "metadata": {
        "id": "PwsSPrBJhPZN",
        "colab_type": "code",
        "outputId": "b10fa557-6632-4c0f-e561-9d3721db9d7d",
        "colab": {
          "base_uri": "https://localhost:8080/",
          "height": 289
        }
      },
      "source": [
        "!pip install surprise"
      ],
      "execution_count": 75,
      "outputs": [
        {
          "output_type": "stream",
          "text": [
            "Collecting surprise\n",
            "  Downloading https://files.pythonhosted.org/packages/61/de/e5cba8682201fcf9c3719a6fdda95693468ed061945493dea2dd37c5618b/surprise-0.1-py2.py3-none-any.whl\n",
            "Collecting scikit-surprise\n",
            "\u001b[?25l  Downloading https://files.pythonhosted.org/packages/f5/da/b5700d96495fb4f092be497f02492768a3d96a3f4fa2ae7dea46d4081cfa/scikit-surprise-1.1.0.tar.gz (6.4MB)\n",
            "\u001b[K     |████████████████████████████████| 6.5MB 28kB/s \n",
            "\u001b[?25hRequirement already satisfied: joblib>=0.11 in /usr/local/lib/python3.6/dist-packages (from scikit-surprise->surprise) (0.15.1)\n",
            "Requirement already satisfied: numpy>=1.11.2 in /usr/local/lib/python3.6/dist-packages (from scikit-surprise->surprise) (1.18.4)\n",
            "Requirement already satisfied: scipy>=1.0.0 in /usr/local/lib/python3.6/dist-packages (from scikit-surprise->surprise) (1.4.1)\n",
            "Requirement already satisfied: six>=1.10.0 in /usr/local/lib/python3.6/dist-packages (from scikit-surprise->surprise) (1.12.0)\n",
            "Building wheels for collected packages: scikit-surprise\n",
            "  Building wheel for scikit-surprise (setup.py) ... \u001b[?25l\u001b[?25hdone\n",
            "  Created wheel for scikit-surprise: filename=scikit_surprise-1.1.0-cp36-cp36m-linux_x86_64.whl size=1675372 sha256=d63120d9bf9ac4cf60073cc1ca66588213011665d315da234e8f3d64e61911ba\n",
            "  Stored in directory: /root/.cache/pip/wheels/cc/fa/8c/16c93fccce688ae1bde7d979ff102f7bee980d9cfeb8641bcf\n",
            "Successfully built scikit-surprise\n",
            "Installing collected packages: scikit-surprise, surprise\n",
            "Successfully installed scikit-surprise-1.1.0 surprise-0.1\n"
          ],
          "name": "stdout"
        }
      ]
    },
    {
      "cell_type": "code",
      "metadata": {
        "id": "24U3WHW3hLQk",
        "colab_type": "code",
        "colab": {}
      },
      "source": [
        "from surprise import Reader, Dataset, NormalPredictor"
      ],
      "execution_count": 0,
      "outputs": []
    },
    {
      "cell_type": "code",
      "metadata": {
        "id": "mdH07GkthUeO",
        "colab_type": "code",
        "colab": {}
      },
      "source": [
        "# First need to create a 'Reader' object to set the scale/limit of the ratings field\n",
        "reader = Reader(rating_scale=(1, 10))\n",
        "\n",
        "# Load the data into a 'Dataset' object directly from the pandas df.\n",
        "# Note: The fields must be in the order: user, item, rating\n",
        "d = Dataset.load_from_df(userBookMatrix[['user', 'item', 'rating']], reader)\n",
        "\n",
        "# trainSet = d.build_full_trainset()"
      ],
      "execution_count": 0,
      "outputs": []
    },
    {
      "cell_type": "code",
      "metadata": {
        "id": "59f09HMwtbPy",
        "colab_type": "code",
        "colab": {}
      },
      "source": [
        "from surprise import SVD"
      ],
      "execution_count": 0,
      "outputs": []
    },
    {
      "cell_type": "code",
      "metadata": {
        "id": "EEIlo6d2ti60",
        "colab_type": "code",
        "colab": {}
      },
      "source": [
        "svdModel = SVD()\n",
        "\n",
        "# svdModel.fit(trainSet)"
      ],
      "execution_count": 0,
      "outputs": []
    },
    {
      "cell_type": "code",
      "metadata": {
        "id": "OMiNAPmvCU9Q",
        "colab_type": "code",
        "colab": {
          "base_uri": "https://localhost:8080/",
          "height": 340
        },
        "outputId": "826a29ad-9741-45e0-a951-edc2610dc08e"
      },
      "source": [
        "cross_validate(svdModel, d, cv=5, verbose=True)"
      ],
      "execution_count": 101,
      "outputs": [
        {
          "output_type": "stream",
          "text": [
            "Evaluating RMSE, MAE of algorithm SVD on 5 split(s).\n",
            "\n",
            "                  Fold 1  Fold 2  Fold 3  Fold 4  Fold 5  Mean    Std     \n",
            "RMSE (testset)    1.6374  1.6349  1.6310  1.6341  1.6388  1.6352  0.0027  \n",
            "MAE (testset)     1.2666  1.2610  1.2611  1.2617  1.2618  1.2624  0.0021  \n",
            "Fit time          20.72   20.82   20.71   20.78   20.63   20.73   0.06    \n",
            "Test time         0.59    0.58    0.59    0.94    0.59    0.66    0.14    \n"
          ],
          "name": "stdout"
        },
        {
          "output_type": "execute_result",
          "data": {
            "text/plain": [
              "{'fit_time': (20.72418189048767,\n",
              "  20.820101737976074,\n",
              "  20.711297512054443,\n",
              "  20.7755389213562,\n",
              "  20.630773067474365),\n",
              " 'test_mae': array([1.26655361, 1.26097383, 1.2611377 , 1.26171787, 1.26184993]),\n",
              " 'test_rmse': array([1.63738544, 1.63485561, 1.63100158, 1.63409402, 1.63877873]),\n",
              " 'test_time': (0.588707447052002,\n",
              "  0.5824108123779297,\n",
              "  0.5853180885314941,\n",
              "  0.9377524852752686,\n",
              "  0.5883705615997314)}"
            ]
          },
          "metadata": {
            "tags": []
          },
          "execution_count": 101
        }
      ]
    },
    {
      "cell_type": "code",
      "metadata": {
        "id": "lLq-bzq-weSR",
        "colab_type": "code",
        "colab": {
          "base_uri": "https://localhost:8080/",
          "height": 102
        },
        "outputId": "18828a67-552c-4acd-9580-6e20ba69c312"
      },
      "source": [
        "from surprise import SVD\n",
        "from surprise import Dataset\n",
        "from surprise import accuracy\n",
        "from surprise.model_selection import KFold\n",
        "\n",
        "# Load the movielens-100k dataset\n",
        "data = Dataset.load_builtin('ml-100k')\n",
        "\n",
        "# define a cross-validation iterator\n",
        "kf = KFold(n_splits=3)\n",
        "\n",
        "algo = SVD()\n",
        "\n",
        "for trainset, testset in kf.split(data):\n",
        "\n",
        "    # train and test algorithm.\n",
        "    algo.fit(trainset)\n",
        "    predictions = algo.test(testset)\n",
        "\n",
        "    # Compute and print Root Mean Squared Error\n",
        "    accuracy.rmse(predictions, verbose=True)"
      ],
      "execution_count": 84,
      "outputs": [
        {
          "output_type": "stream",
          "text": [
            "/usr/local/lib/python3.6/dist-packages/ipykernel_launcher.py:1: SettingWithCopyWarning: \n",
            "A value is trying to be set on a copy of a slice from a DataFrame\n",
            "\n",
            "See the caveats in the documentation: https://pandas.pydata.org/pandas-docs/stable/user_guide/indexing.html#returning-a-view-versus-a-copy\n",
            "  \"\"\"Entry point for launching an IPython kernel.\n"
          ],
          "name": "stderr"
        }
      ]
    },
    {
      "cell_type": "code",
      "metadata": {
        "id": "Yw6tyC4txExI",
        "colab_type": "code",
        "colab": {}
      },
      "source": [
        "from surprise.model_selection import GridSearchCV"
      ],
      "execution_count": 0,
      "outputs": []
    },
    {
      "cell_type": "code",
      "metadata": {
        "id": "hFJmHCkLw8TK",
        "colab_type": "code",
        "colab": {}
      },
      "source": [
        "param_grid = {'n_epochs': [15, 20, 25, 30, 35, 40, 45, 50],\n",
        "'n_factors': [100, 200, 300],\n",
        "'lr_all': [0.002, 0.003, 0.004, 0.005],\n",
        "'reg_all': [0.02,0.01,0.05,0.1, 0.4, 0.6]}\n",
        "svd = GridSearchCV(estimator=SVD, param_grid=param_grid, scoring='accuracy', cv=3, n_jobs=-1)\n",
        "\n",
        "svd.fit(trainset)\n",
        "\n",
        "print(\"RMSE score\", svd.best_score['rmse'])\n",
        "\n",
        "print(\"Best Parameters\", svd_mf.best_params['rmse'])"
      ],
      "execution_count": 0,
      "outputs": []
    },
    {
      "cell_type": "markdown",
      "metadata": {
        "id": "LFppc_bRdE6D",
        "colab_type": "text"
      },
      "source": [
        "### Задание №6 Решить задачу на основе контент-based подхода, выбрав один из методов решения (2 балла):\n",
        "\n",
        "* На основание векторов с факторизационной матрицы\n",
        "* При помощи \"ембеддингов\"  item'ов"
      ]
    },
    {
      "cell_type": "code",
      "metadata": {
        "id": "cB0Vuban79XB",
        "colab_type": "code",
        "colab": {}
      },
      "source": [
        ""
      ],
      "execution_count": 0,
      "outputs": []
    },
    {
      "cell_type": "markdown",
      "metadata": {
        "id": "XmWhAehidE6G",
        "colab_type": "text"
      },
      "source": [
        "### Задание №7 Оценить работу алгоритмов выбрав одну из метрик, сделать вывод по результатам работы (2 балла):\n",
        "\n",
        "* MAP@k\n",
        "* NDCG@k\n",
        "* MRR"
      ]
    },
    {
      "cell_type": "code",
      "metadata": {
        "id": "uN-T3uSo7-Ne",
        "colab_type": "code",
        "colab": {}
      },
      "source": [
        "!pip install ml_metrics"
      ],
      "execution_count": 0,
      "outputs": []
    },
    {
      "cell_type": "code",
      "metadata": {
        "id": "jeU2YJ6sTvMd",
        "colab_type": "code",
        "colab": {}
      },
      "source": [
        "import ml_metrics"
      ],
      "execution_count": 0,
      "outputs": []
    },
    {
      "cell_type": "code",
      "metadata": {
        "id": "ZhGbFSxxUEf5",
        "colab_type": "code",
        "colab": {}
      },
      "source": [
        "ml_metrics.mapk()"
      ],
      "execution_count": 0,
      "outputs": []
    },
    {
      "cell_type": "markdown",
      "metadata": {
        "id": "wn3bRKEgdE6I",
        "colab_type": "text"
      },
      "source": [
        "``` Бонус (1 балл) - дополнительные графики и характеристики в EDA и правильно сделанные выводы```"
      ]
    },
    {
      "cell_type": "markdown",
      "metadata": {
        "id": "RlItEwxHdE6J",
        "colab_type": "text"
      },
      "source": [
        "# ```Дедлайн - 6 июня 23:59```"
      ]
    }
  ]
}